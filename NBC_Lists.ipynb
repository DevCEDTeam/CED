{
  "cells": [
    {
      "cell_type": "markdown",
      "metadata": {
        "id": "view-in-github",
        "colab_type": "text"
      },
      "source": [
        "<a href=\"https://colab.research.google.com/github/DevCEDTeam/CED/blob/main/NBC_Lists.ipynb\" target=\"_parent\"><img src=\"https://colab.research.google.com/assets/colab-badge.svg\" alt=\"Open In Colab\"/></a>"
      ]
    },
    {
      "cell_type": "markdown",
      "metadata": {
        "id": "1BAxAJBs1CBf"
      },
      "source": [
        "# **Step # 1: Mounted at /content/drive**"
      ]
    },
    {
      "cell_type": "code",
      "execution_count": 1,
      "metadata": {
        "colab": {
          "base_uri": "https://localhost:8080/"
        },
        "id": "mm6TA0397jcY",
        "outputId": "fd439189-adf7-4245-95ea-b4dbb58da4d3"
      },
      "outputs": [
        {
          "output_type": "stream",
          "name": "stdout",
          "text": [
            "Mounted at /content/drive\n"
          ]
        }
      ],
      "source": [
        "from google.colab import drive\n",
        "drive.mount('/content/drive')"
      ]
    },
    {
      "cell_type": "markdown",
      "metadata": {
        "id": "QGYHpKQENGfM"
      },
      "source": [
        "\n",
        "\n",
        "#**Step #2: Change director (\"cd\")  | path /content/drive/MyDrive/projects/dataset/oc-voter-list/campaigns/nbc#003**"
      ]
    },
    {
      "cell_type": "code",
      "execution_count": 3,
      "metadata": {
        "colab": {
          "base_uri": "https://localhost:8080/"
        },
        "id": "QwyZPlgsWNz6",
        "outputId": "6660b249-87b8-4ebc-9e50-040409775fe2"
      },
      "outputs": [
        {
          "output_type": "stream",
          "name": "stdout",
          "text": [
            "/content/drive/MyDrive/projects/dataset/oc-voter-list/campaigns/nbc#003\n"
          ]
        }
      ],
      "source": [
        "cd /content/drive/MyDrive/projects/dataset/oc-voter-list/campaigns/nbc#003"
      ]
    },
    {
      "cell_type": "markdown",
      "metadata": {
        "id": "q7gbaDql0f-H"
      },
      "source": [
        "#**Step # 3:  ls:  Lists the files and directories in the current working directory**"
      ]
    },
    {
      "cell_type": "code",
      "execution_count": 4,
      "metadata": {
        "colab": {
          "base_uri": "https://localhost:8080/"
        },
        "id": "rDZtpDGjWgiS",
        "outputId": "35ca3270-14a7-4ffa-ca10-1da6fe779537"
      },
      "outputs": [
        {
          "output_type": "stream",
          "name": "stdout",
          "text": [
            "NBC0003-11-10-2023-a.csv\t\t NBC0003-11-10-2023-test.txt\n",
            "NBC0003-11-10-2023-c-test.txt\t\t NBC0003-12-10-2023a-mautic.csv\n",
            "NBC0003-11-10-2023-demo.txt\t\t NBC0003-12-10-2023b-mautic.csv\n",
            "NBC0003-11-10-2023-d-test.txt\t\t NBC0003-12-10-2023-c-mautic.csv\n",
            "NBC0003-11-10-2023-d.txt\t\t NBC0003-12-10-2023-mautic.csv\n",
            "NBC0003-11-10-2023-first-last-email.csv  NBV000-12-10-2023.xlsx\n",
            "NBC0003-11-10-2023-f-output.csv\t\t sampl.csv\n",
            "NBC0003-11-10-2023-f-update.csv\t\t sample.txt\n",
            "NBC0003-11-10-2023-mautic.csv\t\t sampl.txt\n",
            "NBC0003-11-10-2023-mautic.txt\n"
          ]
        }
      ],
      "source": [
        "!ls"
      ]
    },
    {
      "cell_type": "markdown",
      "metadata": {
        "id": "qf23N5jYD5gJ"
      },
      "source": [
        "#**Step 4: Verify Extracted rows (szEmailAddress, szNameFirst, szNameLast)**"
      ]
    },
    {
      "cell_type": "code",
      "execution_count": 5,
      "metadata": {
        "colab": {
          "base_uri": "https://localhost:8080/"
        },
        "id": "V8k4xvDC3aH_",
        "outputId": "66dadd41-a7d1-4f3b-b061-25394541c1f8"
      },
      "outputs": [
        {
          "output_type": "stream",
          "name": "stderr",
          "text": [
            "<ipython-input-5-8ac51ee951a2>:14: DtypeWarning: Columns (13,18,19) have mixed types. Specify dtype option on import or set low_memory=False.\n",
            "  df = pd.read_csv(input_txt_file, sep='\\t', encoding='ISO-8859-1', dtype=dtypes)\n"
          ]
        },
        {
          "output_type": "stream",
          "name": "stdout",
          "text": [
            "                      szEmailAddress szNameFirst      szNameLast\n",
            "1          brianschoonover@yahoo.com       Brian      Schoonover\n",
            "2          brianschoonover@yahoo.com       Julie      Schoonover\n",
            "3     ROSEMARYAVELLANEDA58@GMAIL.COM    Rosemary      Avellaneda\n",
            "5        Janely.avellaneda@yahoo.com      Janely         Garduno\n",
            "7          froggylover1984@yahoo.com       Vilma       Alcantara\n",
            "...                              ...         ...             ...\n",
            "1160         FLAKA.PRADO22@GMAIL.COM     Beverly           Prado\n",
            "1161       JNOATHANSOLANOF@GMAOL.COM    Jonathan  Solanoaparicio\n",
            "1166          monica_551@hotmail.com      Monica         Estrada\n",
            "1171         victormsoto03@gmail.com      Victor            Soto\n",
            "1172              juliavertiz@me.com       Julia          Vertiz\n",
            "\n",
            "[500 rows x 3 columns]\n"
          ]
        }
      ],
      "source": [
        "import pandas as pd\n",
        "\n",
        "# Define the input .txt file path\n",
        "input_txt_file = '/content/drive/MyDrive/projects/dataset/oc-voter-list/master/cntywd_02102023_.txt'\n",
        "\n",
        "# Define data types for the columns\n",
        "dtypes = {\n",
        "    'szEmailAddress': str,\n",
        "    'szNameFirst': str,\n",
        "    'szNameLast': str,\n",
        "}\n",
        "\n",
        "# Read the data from the .txt file with specified data types\n",
        "df = pd.read_csv(input_txt_file, sep='\\t', encoding='ISO-8859-1', dtype=dtypes)\n",
        "\n",
        "# Remove rows with 'NaN' values in the 'szEmailAddress' column\n",
        "df = df.dropna(subset=['szEmailAddress'])\n",
        "\n",
        "# Print the top 500 rows of the specified columns\n",
        "print(df[['szEmailAddress', 'szNameFirst', 'szNameLast']].head(500))\n",
        "\n",
        "\n",
        "\n"
      ]
    },
    {
      "cell_type": "markdown",
      "metadata": {
        "id": "Y6cUg52KaY7F"
      },
      "source": [
        "#**Step 5: Extract the first 5K rows (szEmailAddress, szNameFirst, szNameLast) to Mautic | path : /content/drive/MyDrive/projects/dataset/oc-voter-list/campaigns/nbc#003/NBC0003-12-10-2023-mautic.csv**"
      ]
    },
    {
      "cell_type": "code",
      "execution_count": 8,
      "metadata": {
        "id": "8O_ccqxGTwSP",
        "colab": {
          "base_uri": "https://localhost:8080/"
        },
        "outputId": "9c0a7cea-cbda-4989-8b7b-28a86d88e029"
      },
      "outputs": [
        {
          "output_type": "stream",
          "name": "stderr",
          "text": [
            "<ipython-input-8-44da6e8b8bd2>:14: DtypeWarning: Columns (13,18,19) have mixed types. Specify dtype option on import or set low_memory=False.\n",
            "  df = pd.read_csv(input_txt_file, sep='\\t', encoding='ISO-8859-1', dtype=dtypes)\n"
          ]
        },
        {
          "output_type": "stream",
          "name": "stdout",
          "text": [
            "First 5,000 rows extracted and saved to /content/drive/MyDrive/projects/dataset/oc-voter-list/campaigns/nbc#003/NBC0003-12-10-2023-d-mautic.csv\n",
            "Total count of szEmailAddress rows in the extracted data: 832374\n"
          ]
        }
      ],
      "source": [
        "import pandas as pd\n",
        "\n",
        "# Define the input .txt file path\n",
        "input_txt_file = '/content/drive/MyDrive/projects/dataset/oc-voter-list/master/cntywd_02102023_.txt'\n",
        "\n",
        "# Define data types for the columns\n",
        "dtypes = {\n",
        "    'szEmailAddress': str,\n",
        "    'szNameFirst': str,\n",
        "    'szNameLast': str,\n",
        "}\n",
        "\n",
        "# Read the data from the .txt file with specified data types\n",
        "df = pd.read_csv(input_txt_file, sep='\\t', encoding='ISO-8859-1', dtype=dtypes)\n",
        "\n",
        "# Remove rows with 'NaN' values in the 'szEmailAddress' column\n",
        "df = df.dropna(subset=['szEmailAddress'])\n",
        "\n",
        "# Print the top 5,000 rows of the specified columns\n",
        "output_csv_file = '/content/drive/MyDrive/projects/dataset/oc-voter-list/campaigns/nbc#003/NBC0003-12-10-2023-d-mautic.csv'\n",
        "df[['szEmailAddress', 'szNameFirst', 'szNameLast']].head(5000).to_csv(output_csv_file, index=False)\n",
        "\n",
        "# Calculate the total count of 'szEmailAddress' rows in the extracted data\n",
        "total_count_szEmailAddress = df.shape[0]\n",
        "\n",
        "print(f'First 5,000 rows extracted and saved to {output_csv_file}')\n",
        "print(f'Total count of szEmailAddress rows in the extracted data: {total_count_szEmailAddress}')\n"
      ]
    }
  ],
  "metadata": {
    "colab": {
      "provenance": [],
      "include_colab_link": true
    },
    "kernelspec": {
      "display_name": "Python 3",
      "name": "python3"
    },
    "language_info": {
      "name": "python"
    }
  },
  "nbformat": 4,
  "nbformat_minor": 0
}