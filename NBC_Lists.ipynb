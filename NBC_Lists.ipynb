{
  "nbformat": 4,
  "nbformat_minor": 0,
  "metadata": {
    "colab": {
      "provenance": [],
      "include_colab_link": true
    },
    "kernelspec": {
      "name": "python3",
      "display_name": "Python 3"
    },
    "language_info": {
      "name": "python"
    }
  },
  "cells": [
    {
      "cell_type": "markdown",
      "metadata": {
        "id": "view-in-github",
        "colab_type": "text"
      },
      "source": [
        "<a href=\"https://colab.research.google.com/github/DevCEDTeam/CED/blob/main/NBC_Lists.ipynb\" target=\"_parent\"><img src=\"https://colab.research.google.com/assets/colab-badge.svg\" alt=\"Open In Colab\"/></a>"
      ]
    },
    {
      "cell_type": "markdown",
      "source": [
        "# **Step # 1: Mounted at /content/drive**"
      ],
      "metadata": {
        "id": "1BAxAJBs1CBf"
      }
    },
    {
      "cell_type": "code",
      "source": [
        "from google.colab import drive\n",
        "drive.mount('/content/drive')"
      ],
      "metadata": {
        "colab": {
          "base_uri": "https://localhost:8080/"
        },
        "id": "mm6TA0397jcY",
        "outputId": "fe6ec821-67cc-4f26-8f26-b5d64fc48d76"
      },
      "execution_count": null,
      "outputs": [
        {
          "output_type": "stream",
          "name": "stdout",
          "text": [
            "Mounted at /content/drive\n"
          ]
        }
      ]
    },
    {
      "cell_type": "markdown",
      "source": [
        "\n",
        "\n",
        "#**Step #2: Change director (\"cd\")  | path /content/drive/MyDrive/projects/dataset/oc-voter-list/campaigns/nbc#003**"
      ],
      "metadata": {
        "id": "QGYHpKQENGfM"
      }
    },
    {
      "cell_type": "code",
      "source": [
        "cd /content/drive/MyDrive/projects/dataset/oc-voter-list/campaigns/nbc#003"
      ],
      "metadata": {
        "id": "QwyZPlgsWNz6",
        "colab": {
          "base_uri": "https://localhost:8080/"
        },
        "outputId": "5e3a9c24-d0a3-4eee-9213-585645e0cae4"
      },
      "execution_count": null,
      "outputs": [
        {
          "output_type": "stream",
          "name": "stdout",
          "text": [
            "/content/drive/MyDrive/projects/dataset/oc-voter-list/campaigns/nbc#003\n"
          ]
        }
      ]
    },
    {
      "cell_type": "markdown",
      "source": [
        "#**Step # 3:  ls:  Lists the files and directories in the current working directory**"
      ],
      "metadata": {
        "id": "q7gbaDql0f-H"
      }
    },
    {
      "cell_type": "code",
      "source": [
        "!ls"
      ],
      "metadata": {
        "id": "rDZtpDGjWgiS",
        "colab": {
          "base_uri": "https://localhost:8080/"
        },
        "outputId": "61ebd61a-f7dc-47b8-a944-0a7ba7a05d23"
      },
      "execution_count": null,
      "outputs": [
        {
          "output_type": "stream",
          "name": "stdout",
          "text": [
            "NBC0003-11-10-2023-a.csv\t\t NBC0003-11-10-2023-f-update.csv\n",
            "NBC0003-11-10-2023-d.txt\t\t NBC0003-11-10-2023-f-update.txt\n",
            "NBC0003-11-10-2023-first-last-email.csv\n"
          ]
        }
      ]
    },
    {
      "cell_type": "markdown",
      "source": [
        "#**Step 4: Extract the first 5K rows (szEmailAddress, szNameFirst, szNameLast) | path : /content/drive/MyDrive/projects/dataset/oc-voter-list/campaigns/nbc#003**"
      ],
      "metadata": {
        "id": "qf23N5jYD5gJ"
      }
    },
    {
      "cell_type": "code",
      "source": [
        "# To sort out the top 5,000 rows of a CSV file using Google Colab and save the sorted data to a new CSV file, you can use the following Python code. This code assumes that your input CSV file contains the columns 'id', 'szEmailAddress', 'szNameFirst', 'szNameLast', and 'szPartyName' and that you want to sort the data based on the 'id' column:\n",
        "# To calculate the total sum of the 'szEmailAddress' rows from your dataset, you can use the following Python script. This script assumes that you have already read your dataset into a Pandas DataFrame:\n",
        "\n",
        "\n",
        "import pandas as pd\n",
        "\n",
        "# Define the file path to your dataset\n",
        "input_csv_file = '/content/drive/MyDrive/projects/dataset/oc-voter-list/campaigns/nbc#003/NBC0003-11-10-2023-f-update.csv'\n",
        "\n",
        "# Read the CSV file into a Pandas DataFrame\n",
        "df = pd.read_csv(input_csv_file, on_bad_lines='skip', delimiter=\"\\t\")\n",
        "\n",
        "# Calculate the total count of 'szEmailAddress' rows\n",
        "# total_count_szEmailAddress = df[['szEmailAddress']].count()\n",
        "print(df.columns)\n",
        "print(df.shape)\n",
        "total_count_szEmailAddress = df.shape[0]\n",
        "\n",
        "print(f'Total count of szEmailAddress rows: {total_count_szEmailAddress}')\n"
      ],
      "metadata": {
        "colab": {
          "base_uri": "https://localhost:8080/"
        },
        "id": "hx-Lt1ATTh5q",
        "outputId": "04cf40e5-2f29-4243-de2c-545274a67e01"
      },
      "execution_count": null,
      "outputs": [
        {
          "output_type": "stream",
          "name": "stdout",
          "text": [
            "Index(['szEmailAddress', 'szNameFirst', 'szNameLast'], dtype='object')\n",
            "(832368, 3)\n",
            "Total count of szEmailAddress rows: 832368\n"
          ]
        }
      ]
    },
    {
      "cell_type": "code",
      "source": [],
      "metadata": {
        "id": "J3kwDEH9qrGU"
      },
      "execution_count": null,
      "outputs": []
    }
  ]
}