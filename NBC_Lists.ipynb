{
  "nbformat": 4,
  "nbformat_minor": 0,
  "metadata": {
    "colab": {
      "provenance": [],
      "include_colab_link": true
    },
    "kernelspec": {
      "name": "python3",
      "display_name": "Python 3"
    },
    "language_info": {
      "name": "python"
    }
  },
  "cells": [
    {
      "cell_type": "markdown",
      "metadata": {
        "id": "view-in-github",
        "colab_type": "text"
      },
      "source": [
        "<a href=\"https://colab.research.google.com/github/DevCEDTeam/CED/blob/main/NBC_Lists.ipynb\" target=\"_parent\"><img src=\"https://colab.research.google.com/assets/colab-badge.svg\" alt=\"Open In Colab\"/></a>"
      ]
    },
    {
      "cell_type": "markdown",
      "source": [
        "# **Step # 1: Mounted at /content/drive**"
      ],
      "metadata": {
        "id": "1BAxAJBs1CBf"
      }
    },
    {
      "cell_type": "code",
      "source": [
        "from google.colab import drive\n",
        "drive.mount('/content/drive')"
      ],
      "metadata": {
        "colab": {
          "base_uri": "https://localhost:8080/"
        },
        "id": "mm6TA0397jcY",
        "outputId": "237b049b-71fc-46dd-cbee-fe079c9a6fb9"
      },
      "execution_count": null,
      "outputs": [
        {
          "output_type": "stream",
          "name": "stdout",
          "text": [
            "Drive already mounted at /content/drive; to attempt to forcibly remount, call drive.mount(\"/content/drive\", force_remount=True).\n"
          ]
        }
      ]
    },
    {
      "cell_type": "markdown",
      "source": [
        "\n",
        "\n",
        "#**Step #2: Change director (\"cd\")  | path /content/drive/MyDrive/projects/dataset/oc-voter-list/campaigns/nbc#003**"
      ],
      "metadata": {
        "id": "QGYHpKQENGfM"
      }
    },
    {
      "cell_type": "code",
      "source": [
        "cd /content/drive/MyDrive/projects/dataset/oc-voter-list/campaigns/nbc#003"
      ],
      "metadata": {
        "id": "QwyZPlgsWNz6",
        "colab": {
          "base_uri": "https://localhost:8080/"
        },
        "outputId": "f53a6c96-cc9f-49ee-be67-573f8d1e8c91"
      },
      "execution_count": null,
      "outputs": [
        {
          "output_type": "stream",
          "name": "stdout",
          "text": [
            "/content/drive/MyDrive/projects/dataset/oc-voter-list/campaigns/nbc#003\n"
          ]
        }
      ]
    },
    {
      "cell_type": "markdown",
      "source": [
        "#**Step # 3:  ls:  Lists the files and directories in the current working directory**"
      ],
      "metadata": {
        "id": "q7gbaDql0f-H"
      }
    },
    {
      "cell_type": "code",
      "source": [
        "!ls"
      ],
      "metadata": {
        "id": "rDZtpDGjWgiS",
        "colab": {
          "base_uri": "https://localhost:8080/"
        },
        "outputId": "0ebd0924-1f4f-4f59-b3e6-0c2e5fcf47c4"
      },
      "execution_count": null,
      "outputs": [
        {
          "output_type": "stream",
          "name": "stdout",
          "text": [
            "NBC0003-11-10-2023-a.csv       NBC0003-11-10-2023-d.txt\n",
            "NBC0003-11-10-2023-c-test.txt  NBC0003-11-10-2023-first-last-email.csv\n",
            "NBC0003-11-10-2023-d-test.txt\n"
          ]
        }
      ]
    },
    {
      "cell_type": "markdown",
      "source": [
        "#**Step 4: Verify Extracted rows (szEmailAddress, szNameFirst, szNameLast)**"
      ],
      "metadata": {
        "id": "qf23N5jYD5gJ"
      }
    },
    {
      "cell_type": "code",
      "source": [
        "# To sort out the rows of a CSV file using Google Colab and save the sorted data to a new CSV file, you can use the following Python code. This code assumes that your input CSV file contains the columns 'id', 'szEmailAddress', 'szNameFirst', 'szNameLast', and 'szPartyName' and that you want to sort the data based on the 'id' column:\n",
        "# To calculate the total sum of the 'szEmailAddress' rows from your dataset, you can use the following Python script. This script assumes that you have already read your dataset into a Pandas DataFrame:\n",
        "\n",
        "\n",
        "import pandas as pd\n",
        "\n",
        "# Define the file path to your dataset\n",
        "input_txt_file = '/content/drive/MyDrive/projects/dataset/oc-voter-list/master/cntywd_02102023_.txt'\n",
        "output_txt_file = '/content/drive/MyDrive/projects/dataset/oc-voter-list/campaigns/nbc#003/NBC0003-11-10-2023-test.txt'\n",
        "\n",
        "# Read the CSV file into a Pandas DataFrame\n",
        "df = pd.read_csv(input_csv_file, on_bad_lines='skip', delimiter=\"\\t\")\n",
        "df.to_csv(output_csv_file)\n",
        "\n",
        "# Calculate the total count of 'szEmailAddress' rows\n",
        "# total_count_szEmailAddress = df[['szEmailAddress']].count()\n",
        "print(df.columns)\n",
        "print(df.shape)\n",
        "total_count_szEmailAddress = df.shape[0]\n",
        "\n",
        "print(f'Total count of szEmailAddress rows: {total_count_szEmailAddress}')\n",
        "\n",
        "df.head()\n"
      ],
      "metadata": {
        "colab": {
          "base_uri": "https://localhost:8080/",
          "height": 258
        },
        "outputId": "c4aa0de9-d7bd-49ed-c6c0-33984ba491a1",
        "id": "rX8lY_-XTuuV"
      },
      "execution_count": 30,
      "outputs": [
        {
          "output_type": "stream",
          "name": "stdout",
          "text": [
            "Index(['szEmailAddress', 'szNameFirst', 'szNameLast'], dtype='object')\n",
            "(832368, 3)\n",
            "Total count of szEmailAddress rows: 832368\n"
          ]
        },
        {
          "output_type": "execute_result",
          "data": {
            "text/plain": [
              "                   szEmailAddress szNameFirst  szNameLast\n",
              "0       brianschoonover@yahoo.com       Brian  Schoonover\n",
              "1       brianschoonover@yahoo.com       Julie  Schoonover\n",
              "2  ROSEMARYAVELLANEDA58@GMAIL.COM    Rosemary  Avellaneda\n",
              "3     Janely.avellaneda@yahoo.com      Janely     Garduno\n",
              "4       froggylover1984@yahoo.com       Vilma   Alcantara"
            ],
            "text/html": [
              "\n",
              "  <div id=\"df-f932d475-395b-44bd-b476-721a9f709c7d\" class=\"colab-df-container\">\n",
              "    <div>\n",
              "<style scoped>\n",
              "    .dataframe tbody tr th:only-of-type {\n",
              "        vertical-align: middle;\n",
              "    }\n",
              "\n",
              "    .dataframe tbody tr th {\n",
              "        vertical-align: top;\n",
              "    }\n",
              "\n",
              "    .dataframe thead th {\n",
              "        text-align: right;\n",
              "    }\n",
              "</style>\n",
              "<table border=\"1\" class=\"dataframe\">\n",
              "  <thead>\n",
              "    <tr style=\"text-align: right;\">\n",
              "      <th></th>\n",
              "      <th>szEmailAddress</th>\n",
              "      <th>szNameFirst</th>\n",
              "      <th>szNameLast</th>\n",
              "    </tr>\n",
              "  </thead>\n",
              "  <tbody>\n",
              "    <tr>\n",
              "      <th>0</th>\n",
              "      <td>brianschoonover@yahoo.com</td>\n",
              "      <td>Brian</td>\n",
              "      <td>Schoonover</td>\n",
              "    </tr>\n",
              "    <tr>\n",
              "      <th>1</th>\n",
              "      <td>brianschoonover@yahoo.com</td>\n",
              "      <td>Julie</td>\n",
              "      <td>Schoonover</td>\n",
              "    </tr>\n",
              "    <tr>\n",
              "      <th>2</th>\n",
              "      <td>ROSEMARYAVELLANEDA58@GMAIL.COM</td>\n",
              "      <td>Rosemary</td>\n",
              "      <td>Avellaneda</td>\n",
              "    </tr>\n",
              "    <tr>\n",
              "      <th>3</th>\n",
              "      <td>Janely.avellaneda@yahoo.com</td>\n",
              "      <td>Janely</td>\n",
              "      <td>Garduno</td>\n",
              "    </tr>\n",
              "    <tr>\n",
              "      <th>4</th>\n",
              "      <td>froggylover1984@yahoo.com</td>\n",
              "      <td>Vilma</td>\n",
              "      <td>Alcantara</td>\n",
              "    </tr>\n",
              "  </tbody>\n",
              "</table>\n",
              "</div>\n",
              "    <div class=\"colab-df-buttons\">\n",
              "\n",
              "  <div class=\"colab-df-container\">\n",
              "    <button class=\"colab-df-convert\" onclick=\"convertToInteractive('df-f932d475-395b-44bd-b476-721a9f709c7d')\"\n",
              "            title=\"Convert this dataframe to an interactive table.\"\n",
              "            style=\"display:none;\">\n",
              "\n",
              "  <svg xmlns=\"http://www.w3.org/2000/svg\" height=\"24px\" viewBox=\"0 -960 960 960\">\n",
              "    <path d=\"M120-120v-720h720v720H120Zm60-500h600v-160H180v160Zm220 220h160v-160H400v160Zm0 220h160v-160H400v160ZM180-400h160v-160H180v160Zm440 0h160v-160H620v160ZM180-180h160v-160H180v160Zm440 0h160v-160H620v160Z\"/>\n",
              "  </svg>\n",
              "    </button>\n",
              "\n",
              "  <style>\n",
              "    .colab-df-container {\n",
              "      display:flex;\n",
              "      gap: 12px;\n",
              "    }\n",
              "\n",
              "    .colab-df-convert {\n",
              "      background-color: #E8F0FE;\n",
              "      border: none;\n",
              "      border-radius: 50%;\n",
              "      cursor: pointer;\n",
              "      display: none;\n",
              "      fill: #1967D2;\n",
              "      height: 32px;\n",
              "      padding: 0 0 0 0;\n",
              "      width: 32px;\n",
              "    }\n",
              "\n",
              "    .colab-df-convert:hover {\n",
              "      background-color: #E2EBFA;\n",
              "      box-shadow: 0px 1px 2px rgba(60, 64, 67, 0.3), 0px 1px 3px 1px rgba(60, 64, 67, 0.15);\n",
              "      fill: #174EA6;\n",
              "    }\n",
              "\n",
              "    .colab-df-buttons div {\n",
              "      margin-bottom: 4px;\n",
              "    }\n",
              "\n",
              "    [theme=dark] .colab-df-convert {\n",
              "      background-color: #3B4455;\n",
              "      fill: #D2E3FC;\n",
              "    }\n",
              "\n",
              "    [theme=dark] .colab-df-convert:hover {\n",
              "      background-color: #434B5C;\n",
              "      box-shadow: 0px 1px 3px 1px rgba(0, 0, 0, 0.15);\n",
              "      filter: drop-shadow(0px 1px 2px rgba(0, 0, 0, 0.3));\n",
              "      fill: #FFFFFF;\n",
              "    }\n",
              "  </style>\n",
              "\n",
              "    <script>\n",
              "      const buttonEl =\n",
              "        document.querySelector('#df-f932d475-395b-44bd-b476-721a9f709c7d button.colab-df-convert');\n",
              "      buttonEl.style.display =\n",
              "        google.colab.kernel.accessAllowed ? 'block' : 'none';\n",
              "\n",
              "      async function convertToInteractive(key) {\n",
              "        const element = document.querySelector('#df-f932d475-395b-44bd-b476-721a9f709c7d');\n",
              "        const dataTable =\n",
              "          await google.colab.kernel.invokeFunction('convertToInteractive',\n",
              "                                                    [key], {});\n",
              "        if (!dataTable) return;\n",
              "\n",
              "        const docLinkHtml = 'Like what you see? Visit the ' +\n",
              "          '<a target=\"_blank\" href=https://colab.research.google.com/notebooks/data_table.ipynb>data table notebook</a>'\n",
              "          + ' to learn more about interactive tables.';\n",
              "        element.innerHTML = '';\n",
              "        dataTable['output_type'] = 'display_data';\n",
              "        await google.colab.output.renderOutput(dataTable, element);\n",
              "        const docLink = document.createElement('div');\n",
              "        docLink.innerHTML = docLinkHtml;\n",
              "        element.appendChild(docLink);\n",
              "      }\n",
              "    </script>\n",
              "  </div>\n",
              "\n",
              "\n",
              "<div id=\"df-3a038244-68e3-4e33-8b0c-bbaacd49da6b\">\n",
              "  <button class=\"colab-df-quickchart\" onclick=\"quickchart('df-3a038244-68e3-4e33-8b0c-bbaacd49da6b')\"\n",
              "            title=\"Suggest charts.\"\n",
              "            style=\"display:none;\">\n",
              "\n",
              "<svg xmlns=\"http://www.w3.org/2000/svg\" height=\"24px\"viewBox=\"0 0 24 24\"\n",
              "     width=\"24px\">\n",
              "    <g>\n",
              "        <path d=\"M19 3H5c-1.1 0-2 .9-2 2v14c0 1.1.9 2 2 2h14c1.1 0 2-.9 2-2V5c0-1.1-.9-2-2-2zM9 17H7v-7h2v7zm4 0h-2V7h2v10zm4 0h-2v-4h2v4z\"/>\n",
              "    </g>\n",
              "</svg>\n",
              "  </button>\n",
              "\n",
              "<style>\n",
              "  .colab-df-quickchart {\n",
              "      --bg-color: #E8F0FE;\n",
              "      --fill-color: #1967D2;\n",
              "      --hover-bg-color: #E2EBFA;\n",
              "      --hover-fill-color: #174EA6;\n",
              "      --disabled-fill-color: #AAA;\n",
              "      --disabled-bg-color: #DDD;\n",
              "  }\n",
              "\n",
              "  [theme=dark] .colab-df-quickchart {\n",
              "      --bg-color: #3B4455;\n",
              "      --fill-color: #D2E3FC;\n",
              "      --hover-bg-color: #434B5C;\n",
              "      --hover-fill-color: #FFFFFF;\n",
              "      --disabled-bg-color: #3B4455;\n",
              "      --disabled-fill-color: #666;\n",
              "  }\n",
              "\n",
              "  .colab-df-quickchart {\n",
              "    background-color: var(--bg-color);\n",
              "    border: none;\n",
              "    border-radius: 50%;\n",
              "    cursor: pointer;\n",
              "    display: none;\n",
              "    fill: var(--fill-color);\n",
              "    height: 32px;\n",
              "    padding: 0;\n",
              "    width: 32px;\n",
              "  }\n",
              "\n",
              "  .colab-df-quickchart:hover {\n",
              "    background-color: var(--hover-bg-color);\n",
              "    box-shadow: 0 1px 2px rgba(60, 64, 67, 0.3), 0 1px 3px 1px rgba(60, 64, 67, 0.15);\n",
              "    fill: var(--button-hover-fill-color);\n",
              "  }\n",
              "\n",
              "  .colab-df-quickchart-complete:disabled,\n",
              "  .colab-df-quickchart-complete:disabled:hover {\n",
              "    background-color: var(--disabled-bg-color);\n",
              "    fill: var(--disabled-fill-color);\n",
              "    box-shadow: none;\n",
              "  }\n",
              "\n",
              "  .colab-df-spinner {\n",
              "    border: 2px solid var(--fill-color);\n",
              "    border-color: transparent;\n",
              "    border-bottom-color: var(--fill-color);\n",
              "    animation:\n",
              "      spin 1s steps(1) infinite;\n",
              "  }\n",
              "\n",
              "  @keyframes spin {\n",
              "    0% {\n",
              "      border-color: transparent;\n",
              "      border-bottom-color: var(--fill-color);\n",
              "      border-left-color: var(--fill-color);\n",
              "    }\n",
              "    20% {\n",
              "      border-color: transparent;\n",
              "      border-left-color: var(--fill-color);\n",
              "      border-top-color: var(--fill-color);\n",
              "    }\n",
              "    30% {\n",
              "      border-color: transparent;\n",
              "      border-left-color: var(--fill-color);\n",
              "      border-top-color: var(--fill-color);\n",
              "      border-right-color: var(--fill-color);\n",
              "    }\n",
              "    40% {\n",
              "      border-color: transparent;\n",
              "      border-right-color: var(--fill-color);\n",
              "      border-top-color: var(--fill-color);\n",
              "    }\n",
              "    60% {\n",
              "      border-color: transparent;\n",
              "      border-right-color: var(--fill-color);\n",
              "    }\n",
              "    80% {\n",
              "      border-color: transparent;\n",
              "      border-right-color: var(--fill-color);\n",
              "      border-bottom-color: var(--fill-color);\n",
              "    }\n",
              "    90% {\n",
              "      border-color: transparent;\n",
              "      border-bottom-color: var(--fill-color);\n",
              "    }\n",
              "  }\n",
              "</style>\n",
              "\n",
              "  <script>\n",
              "    async function quickchart(key) {\n",
              "      const quickchartButtonEl =\n",
              "        document.querySelector('#' + key + ' button');\n",
              "      quickchartButtonEl.disabled = true;  // To prevent multiple clicks.\n",
              "      quickchartButtonEl.classList.add('colab-df-spinner');\n",
              "      try {\n",
              "        const charts = await google.colab.kernel.invokeFunction(\n",
              "            'suggestCharts', [key], {});\n",
              "      } catch (error) {\n",
              "        console.error('Error during call to suggestCharts:', error);\n",
              "      }\n",
              "      quickchartButtonEl.classList.remove('colab-df-spinner');\n",
              "      quickchartButtonEl.classList.add('colab-df-quickchart-complete');\n",
              "    }\n",
              "    (() => {\n",
              "      let quickchartButtonEl =\n",
              "        document.querySelector('#df-3a038244-68e3-4e33-8b0c-bbaacd49da6b button');\n",
              "      quickchartButtonEl.style.display =\n",
              "        google.colab.kernel.accessAllowed ? 'block' : 'none';\n",
              "    })();\n",
              "  </script>\n",
              "</div>\n",
              "    </div>\n",
              "  </div>\n"
            ]
          },
          "metadata": {},
          "execution_count": 30
        }
      ]
    },
    {
      "cell_type": "markdown",
      "source": [
        "#**Step 5: Verify the OC Voter Registration List  (szEmailAddress, szNameFirst, szNameLast) via Excel Pivot | path : /content/drive/MyDrive/projects/dataset/oc-voter-list/campaigns/nbc#003/NBC0003-11-10-2023-mautic.txt**"
      ],
      "metadata": {
        "id": "WlwPJGhietTt"
      }
    },
    {
      "cell_type": "code",
      "source": [
        "# To sort out the top 5,000 rows of a CSV file using Google Colab and save the sorted data to a new CSV file, you can use the following Python code. This code assumes that your input CSV file contains the columns 'id', 'szEmailAddress', 'szNameFirst', 'szNameLast', and 'szPartyName' and that you want to sort the data based on the 'id' column:\n",
        "# To calculate the total sum of the 'szEmailAddress' rows from your dataset, you can use the following Python script. This script assumes that you have already read your dataset into a Pandas DataFrame:\n",
        "\n",
        "\n",
        "import pandas as pd\n",
        "\n",
        "# Define the file path to your dataset\n",
        "input_txt_file = '/content/drive/MyDrive/projects/dataset/oc-voter-list/master/cntywd_02102023_.txt'\n",
        "output_csv_file = '/content/drive/MyDrive/projects/dataset/oc-voter-list/campaigns/nbc#003/NBC0003-11-10-2023-mautic.txt'\n",
        "\n",
        "# Read the CSV file into a Pandas DataFrame\n",
        "df = pd.read_csv(input_csv_file, on_bad_lines='skip', delimiter=\"\\t\")\n",
        "df.to_csv(output_csv_file)\n",
        "\n",
        "# Calculate the total count of 'szEmailAddress' rows\n",
        "# total_count_szEmailAddress = df[['szEmailAddress']].count()\n",
        "print(df.columns)\n",
        "print(df.shape)\n",
        "total_count_szEmailAddress = df.shape[0]\n",
        "\n",
        "print(f'Total count of szEmailAddress rows: {total_count_szEmailAddress}')\n"
      ],
      "metadata": {
        "colab": {
          "base_uri": "https://localhost:8080/"
        },
        "outputId": "de76fa41-343e-4b26-a894-d1b47cd90a2b",
        "id": "JFbmxhTbasRd"
      },
      "execution_count": null,
      "outputs": [
        {
          "output_type": "stream",
          "name": "stdout",
          "text": [
            "Index(['szEmailAddress', 'szNameFirst', 'szNameLast'], dtype='object')\n",
            "(832368, 3)\n",
            "Total count of szEmailAddress rows: 832368\n"
          ]
        }
      ]
    },
    {
      "cell_type": "markdown",
      "source": [
        "#**Step 6: Extract the first 5K rows (szEmailAddress, szNameFirst, szNameLast) to Mautic | path : /content/drive/MyDrive/projects/dataset/oc-voter-list/campaigns/nbc#003/NBC0003-11-10-2023-mautic.csv**"
      ],
      "metadata": {
        "id": "Y6cUg52KaY7F"
      }
    },
    {
      "cell_type": "code",
      "source": [
        "\n",
        "# To sort out the top 5,000 rows of a CSV file using Google Colab and save the sorted data to a new CSV file, you can use the following Python code. This code assumes that your input CSV file contains the columns 'id', 'szEmailAddress', 'szNameFirst', 'szNameLast', and 'szPartyName' and that you want to sort the data based on the 'id' column:\n",
        "# To calculate the total sum of the 'szEmailAddress' rows from your dataset, you can use the following Python script. This script assumes that you have already read your dataset into a Pandas DataFrame:\n",
        "# This code reads the .txt file, skips bad lines, saves the data as a .csv file, and calculates the total count of 'szEmailAddress' rows. Ensure that you've provided the correct file paths\n",
        "\n",
        "import pandas as pd\n",
        "\n",
        "# Define the file paths\n",
        "input_txt_file = '/content/drive/MyDrive/projects/dataset/oc-voter-list/master/cntywd_02102023_.txt'\n",
        "output_csv_file = '/content/drive/MyDrive/projects/dataset/oc-voter-list/campaigns/nbc#003/NBC0003-11-10-2023-mautic.csv'\n",
        "\n",
        "# Read the first 5,000 rows from the .txt file into a Pandas DataFrame\n",
        "df = pd.read_csv(input_txt_file, error_bad_lines=False, delimiter=\"\\t\", nrows=5000)\n",
        "\n",
        "# Save the DataFrame as a .csv file\n",
        "df.to_csv(output_csv_file, index=False)\n",
        "\n",
        "# Calculate the total count of 'szEmailAddress' rows in the extracted data\n",
        "total_count_szEmailAddress = df.shape[0]\n",
        "\n",
        "print(f'First 5,000 rows extracted and saved to {output_csv_file}')\n",
        "print(f'Total count of szEmailAddress rows in the extracted data: {total_count_szEmailAddress}')\n"
      ],
      "metadata": {
        "colab": {
          "base_uri": "https://localhost:8080/"
        },
        "id": "JAUTYy1tdHda",
        "outputId": "557d2611-9312-4351-e184-a027789b530b"
      },
      "execution_count": null,
      "outputs": [
        {
          "output_type": "stream",
          "name": "stderr",
          "text": [
            "<ipython-input-29-f8a33b1411a9>:11: FutureWarning: The error_bad_lines argument has been deprecated and will be removed in a future version. Use on_bad_lines in the future.\n",
            "\n",
            "\n",
            "  df = pd.read_csv(input_txt_file, error_bad_lines=False, delimiter=\"\\t\", nrows=5000)\n"
          ]
        },
        {
          "output_type": "stream",
          "name": "stdout",
          "text": [
            "First 5,000 rows extracted and saved to /content/drive/MyDrive/projects/dataset/oc-voter-list/campaigns/nbc#003/NBC0003-11-10-2023-mautic.csv\n",
            "Total count of szEmailAddress rows in the extracted data: 5000\n"
          ]
        }
      ]
    }
  ]
}