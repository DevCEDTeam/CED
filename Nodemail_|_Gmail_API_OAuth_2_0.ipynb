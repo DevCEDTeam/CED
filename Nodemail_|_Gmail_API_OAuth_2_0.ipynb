{
  "nbformat": 4,
  "nbformat_minor": 0,
  "metadata": {
    "colab": {
      "provenance": [],
      "authorship_tag": "ABX9TyOZS6LAoWHhGvYafVHKIj3b",
      "include_colab_link": true
    },
    "kernelspec": {
      "name": "python3",
      "display_name": "Python 3"
    },
    "language_info": {
      "name": "python"
    }
  },
  "cells": [
    {
      "cell_type": "markdown",
      "metadata": {
        "id": "view-in-github",
        "colab_type": "text"
      },
      "source": [
        "<a href=\"https://colab.research.google.com/github/DevCEDTeam/CED/blob/main/Nodemail_%7C_Gmail_API_OAuth_2_0.ipynb\" target=\"_parent\"><img src=\"https://colab.research.google.com/assets/colab-badge.svg\" alt=\"Open In Colab\"/></a>"
      ]
    },
    {
      "cell_type": "markdown",
      "source": [],
      "metadata": {
        "id": "RgNeY1L8IcX5"
      }
    },
    {
      "cell_type": "markdown",
      "source": [
        "#**Step # 1: Mounted at /content/drive**"
      ],
      "metadata": {
        "id": "Hq1mSMFyPwLs"
      }
    },
    {
      "cell_type": "code",
      "source": [
        "from google.colab import drive\n",
        "drive.mount('/content/drive')"
      ],
      "metadata": {
        "colab": {
          "base_uri": "https://localhost:8080/"
        },
        "id": "mm6TA0397jcY",
        "outputId": "266730c7-e59b-4b30-a2d2-0ffdceec53a2"
      },
      "execution_count": 39,
      "outputs": [
        {
          "output_type": "stream",
          "name": "stdout",
          "text": [
            "Drive already mounted at /content/drive; to attempt to forcibly remount, call drive.mount(\"/content/drive\", force_remount=True).\n"
          ]
        }
      ]
    },
    {
      "cell_type": "markdown",
      "source": [
        "#**Step #3: Install nvm (Node Version Manager):**"
      ],
      "metadata": {
        "id": "nqQwLsSVqUGm"
      }
    },
    {
      "cell_type": "code",
      "source": [
        "\n",
        "!npm uninstall -g npm\n",
        "!npm install -g npm@latest"
      ],
      "metadata": {
        "colab": {
          "base_uri": "https://localhost:8080/"
        },
        "id": "Ub-X12K7pQFe",
        "outputId": "e081ca0c-e8e2-4d04-bbc2-47d4c29a5932"
      },
      "execution_count": 61,
      "outputs": [
        {
          "output_type": "stream",
          "name": "stdout",
          "text": [
            "ERROR: npm v10.2.1 is known not to run on Node.js v12.22.9.  This version of npm supports the following node versions: `^18.17.0 || >=20.5.0`. You can find the latest version at https://nodejs.org/.\n",
            "\n",
            "ERROR:\n",
            "/usr/lib/node_modules/npm/lib/utils/exit-handler.js:19\n",
            "  const hasLoadedNpm = npm?.config.loaded\n",
            "                           ^\n",
            "\n",
            "SyntaxError: Unexpected token '.'\n",
            "\u001b[90m    at wrapSafe (internal/modules/cjs/loader.js:915:16)\u001b[39m\n",
            "\u001b[90m    at Module._compile (internal/modules/cjs/loader.js:963:27)\u001b[39m\n",
            "\u001b[90m    at Object.Module._extensions..js (internal/modules/cjs/loader.js:1027:10)\u001b[39m\n",
            "\u001b[90m    at Module.load (internal/modules/cjs/loader.js:863:32)\u001b[39m\n",
            "\u001b[90m    at Function.Module._load (internal/modules/cjs/loader.js:708:14)\u001b[39m\n",
            "\u001b[90m    at Module.require (internal/modules/cjs/loader.js:887:19)\u001b[39m\n",
            "\u001b[90m    at require (internal/modules/cjs/helpers.js:74:18)\u001b[39m\n",
            "    at module.exports (/usr/lib/node_modules/\u001b[4mnpm\u001b[24m/lib/cli-entry.js:15:23)\n",
            "    at module.exports (/usr/lib/node_modules/\u001b[4mnpm\u001b[24m/lib/es6/validate-engines.js:39:10)\n",
            "    at module.exports (/usr/lib/node_modules/\u001b[4mnpm\u001b[24m/lib/cli.js:4:31)\n",
            "ERROR: npm v10.2.1 is known not to run on Node.js v12.22.9.  This version of npm supports the following node versions: `^18.17.0 || >=20.5.0`. You can find the latest version at https://nodejs.org/.\n",
            "\n",
            "ERROR:\n",
            "/usr/lib/node_modules/npm/lib/utils/exit-handler.js:19\n",
            "  const hasLoadedNpm = npm?.config.loaded\n",
            "                           ^\n",
            "\n",
            "SyntaxError: Unexpected token '.'\n",
            "\u001b[90m    at wrapSafe (internal/modules/cjs/loader.js:915:16)\u001b[39m\n",
            "\u001b[90m    at Module._compile (internal/modules/cjs/loader.js:963:27)\u001b[39m\n",
            "\u001b[90m    at Object.Module._extensions..js (internal/modules/cjs/loader.js:1027:10)\u001b[39m\n",
            "\u001b[90m    at Module.load (internal/modules/cjs/loader.js:863:32)\u001b[39m\n",
            "\u001b[90m    at Function.Module._load (internal/modules/cjs/loader.js:708:14)\u001b[39m\n",
            "\u001b[90m    at Module.require (internal/modules/cjs/loader.js:887:19)\u001b[39m\n",
            "\u001b[90m    at require (internal/modules/cjs/helpers.js:74:18)\u001b[39m\n",
            "    at module.exports (/usr/lib/node_modules/\u001b[4mnpm\u001b[24m/lib/cli-entry.js:15:23)\n",
            "    at module.exports (/usr/lib/node_modules/\u001b[4mnpm\u001b[24m/lib/es6/validate-engines.js:39:10)\n",
            "    at module.exports (/usr/lib/node_modules/\u001b[4mnpm\u001b[24m/lib/cli.js:4:31)\n"
          ]
        }
      ]
    },
    {
      "cell_type": "markdown",
      "source": [
        "#**Step #4: Verify that the latest version of npm is installed by running the following command in a code cell:**"
      ],
      "metadata": {
        "id": "Wt5c9UBopQeN"
      }
    },
    {
      "cell_type": "code",
      "source": [
        "\n",
        "!npm --version"
      ],
      "metadata": {
        "colab": {
          "base_uri": "https://localhost:8080/"
        },
        "id": "YcwV4wippQqh",
        "outputId": "bb96afb5-2c2d-4a3f-d9ae-2a2bf23ab33f"
      },
      "execution_count": 62,
      "outputs": [
        {
          "output_type": "stream",
          "name": "stdout",
          "text": [
            "ERROR: npm v10.2.1 is known not to run on Node.js v12.22.9.  This version of npm supports the following node versions: `^18.17.0 || >=20.5.0`. You can find the latest version at https://nodejs.org/.\n",
            "\n",
            "ERROR:\n",
            "/usr/lib/node_modules/npm/lib/utils/exit-handler.js:19\n",
            "  const hasLoadedNpm = npm?.config.loaded\n",
            "                           ^\n",
            "\n",
            "SyntaxError: Unexpected token '.'\n",
            "\u001b[90m    at wrapSafe (internal/modules/cjs/loader.js:915:16)\u001b[39m\n",
            "\u001b[90m    at Module._compile (internal/modules/cjs/loader.js:963:27)\u001b[39m\n",
            "\u001b[90m    at Object.Module._extensions..js (internal/modules/cjs/loader.js:1027:10)\u001b[39m\n",
            "\u001b[90m    at Module.load (internal/modules/cjs/loader.js:863:32)\u001b[39m\n",
            "\u001b[90m    at Function.Module._load (internal/modules/cjs/loader.js:708:14)\u001b[39m\n",
            "\u001b[90m    at Module.require (internal/modules/cjs/loader.js:887:19)\u001b[39m\n",
            "\u001b[90m    at require (internal/modules/cjs/helpers.js:74:18)\u001b[39m\n",
            "    at module.exports (/usr/lib/node_modules/\u001b[4mnpm\u001b[24m/lib/cli-entry.js:15:23)\n",
            "    at module.exports (/usr/lib/node_modules/\u001b[4mnpm\u001b[24m/lib/es6/validate-engines.js:39:10)\n",
            "    at module.exports (/usr/lib/node_modules/\u001b[4mnpm\u001b[24m/lib/cli.js:4:31)\n"
          ]
        }
      ]
    },
    {
      "cell_type": "markdown",
      "source": [
        "#**Step #5: Install Node.js in your Google Colab environment:**"
      ],
      "metadata": {
        "id": "OwRIOvslP0Jj"
      }
    },
    {
      "cell_type": "code",
      "source": [
        "!apt-get update\n",
        "!apt-get install -y nodejs\n",
        "!npm install -g npm"
      ],
      "metadata": {
        "id": "GRbasVTIP3f7",
        "colab": {
          "base_uri": "https://localhost:8080/"
        },
        "outputId": "11e909e0-1d1c-4fe7-ad3c-75779d0030b8"
      },
      "execution_count": 63,
      "outputs": [
        {
          "output_type": "stream",
          "name": "stdout",
          "text": [
            "\r0% [Working]\r            \rHit:1 https://cloud.r-project.org/bin/linux/ubuntu jammy-cran40/ InRelease\n",
            "Hit:2 https://developer.download.nvidia.com/compute/cuda/repos/ubuntu2204/x86_64  InRelease\n",
            "Hit:3 http://security.ubuntu.com/ubuntu jammy-security InRelease\n",
            "Hit:4 http://archive.ubuntu.com/ubuntu jammy InRelease\n",
            "Hit:5 http://archive.ubuntu.com/ubuntu jammy-updates InRelease\n",
            "Hit:6 http://archive.ubuntu.com/ubuntu jammy-backports InRelease\n",
            "Hit:7 https://ppa.launchpadcontent.net/c2d4u.team/c2d4u4.0+/ubuntu jammy InRelease\n",
            "Hit:8 https://ppa.launchpadcontent.net/deadsnakes/ppa/ubuntu jammy InRelease\n",
            "Hit:9 https://ppa.launchpadcontent.net/graphics-drivers/ppa/ubuntu jammy InRelease\n",
            "Hit:10 https://ppa.launchpadcontent.net/ubuntugis/ppa/ubuntu jammy InRelease\n",
            "Reading package lists... Done\n",
            "Reading package lists... Done\n",
            "Building dependency tree... Done\n",
            "Reading state information... Done\n",
            "nodejs is already the newest version (12.22.9~dfsg-1ubuntu3).\n",
            "0 upgraded, 0 newly installed, 0 to remove and 19 not upgraded.\n",
            "ERROR: npm v10.2.1 is known not to run on Node.js v12.22.9.  This version of npm supports the following node versions: `^18.17.0 || >=20.5.0`. You can find the latest version at https://nodejs.org/.\n",
            "\n",
            "ERROR:\n",
            "/usr/lib/node_modules/npm/lib/utils/exit-handler.js:19\n",
            "  const hasLoadedNpm = npm?.config.loaded\n",
            "                           ^\n",
            "\n",
            "SyntaxError: Unexpected token '.'\n",
            "\u001b[90m    at wrapSafe (internal/modules/cjs/loader.js:915:16)\u001b[39m\n",
            "\u001b[90m    at Module._compile (internal/modules/cjs/loader.js:963:27)\u001b[39m\n",
            "\u001b[90m    at Object.Module._extensions..js (internal/modules/cjs/loader.js:1027:10)\u001b[39m\n",
            "\u001b[90m    at Module.load (internal/modules/cjs/loader.js:863:32)\u001b[39m\n",
            "\u001b[90m    at Function.Module._load (internal/modules/cjs/loader.js:708:14)\u001b[39m\n",
            "\u001b[90m    at Module.require (internal/modules/cjs/loader.js:887:19)\u001b[39m\n",
            "\u001b[90m    at require (internal/modules/cjs/helpers.js:74:18)\u001b[39m\n",
            "    at module.exports (/usr/lib/node_modules/\u001b[4mnpm\u001b[24m/lib/cli-entry.js:15:23)\n",
            "    at module.exports (/usr/lib/node_modules/\u001b[4mnpm\u001b[24m/lib/es6/validate-engines.js:39:10)\n",
            "    at module.exports (/usr/lib/node_modules/\u001b[4mnpm\u001b[24m/lib/cli.js:4:31)\n"
          ]
        }
      ]
    },
    {
      "cell_type": "markdown",
      "source": [
        "#**Step #6: Update the version of Python by running the following command in a cell of your Colab notebook:**"
      ],
      "metadata": {
        "id": "Th_a2KUPTbNu"
      }
    },
    {
      "cell_type": "code",
      "source": [
        "!sudo apt-get update -y\n",
        "!sudo apt-get install python3.9\n",
        "!sudo update-alternatives --install /usr/bin/python3 python3 /usr/bin/python3.7 1\n",
        "!sudo update-alternatives --config python3"
      ],
      "metadata": {
        "id": "2yGPZqzHTase",
        "colab": {
          "base_uri": "https://localhost:8080/"
        },
        "outputId": "3f6c4f26-af2a-4071-bdc1-edab39fd04a2"
      },
      "execution_count": 64,
      "outputs": [
        {
          "output_type": "stream",
          "name": "stdout",
          "text": [
            "\r0% [Working]\r            \rHit:1 https://cloud.r-project.org/bin/linux/ubuntu jammy-cran40/ InRelease\n",
            "Hit:2 https://developer.download.nvidia.com/compute/cuda/repos/ubuntu2204/x86_64  InRelease\n",
            "Hit:3 http://security.ubuntu.com/ubuntu jammy-security InRelease\n",
            "Hit:4 http://archive.ubuntu.com/ubuntu jammy InRelease\n",
            "Hit:5 http://archive.ubuntu.com/ubuntu jammy-updates InRelease\n",
            "Hit:6 http://archive.ubuntu.com/ubuntu jammy-backports InRelease\n",
            "Hit:7 https://ppa.launchpadcontent.net/c2d4u.team/c2d4u4.0+/ubuntu jammy InRelease\n",
            "Hit:8 https://ppa.launchpadcontent.net/deadsnakes/ppa/ubuntu jammy InRelease\n",
            "Hit:9 https://ppa.launchpadcontent.net/graphics-drivers/ppa/ubuntu jammy InRelease\n",
            "Hit:10 https://ppa.launchpadcontent.net/ubuntugis/ppa/ubuntu jammy InRelease\n",
            "Reading package lists... Done\n",
            "Reading package lists... Done\n",
            "Building dependency tree... Done\n",
            "Reading state information... Done\n",
            "python3.9 is already the newest version (3.9.18-1+jammy1).\n",
            "0 upgraded, 0 newly installed, 0 to remove and 19 not upgraded.\n",
            "update-alternatives: error: alternative path /usr/bin/python3.7 doesn't exist\n",
            "update-alternatives: error: no alternatives for python3\n"
          ]
        }
      ]
    },
    {
      "cell_type": "markdown",
      "source": [
        "#**Step #7: Check the current version of Node.js used by the notebook by running the command `!node --version` in a code cell.**"
      ],
      "metadata": {
        "id": "psk2rOZMP4AM"
      }
    },
    {
      "cell_type": "code",
      "source": [
        "!node --version"
      ],
      "metadata": {
        "colab": {
          "base_uri": "https://localhost:8080/"
        },
        "id": "WW9w-GlaP4bT",
        "outputId": "bf73c798-c241-4df4-965a-176a86ceb959"
      },
      "execution_count": null,
      "outputs": [
        {
          "output_type": "stream",
          "name": "stdout",
          "text": [
            "v12.22.9\n"
          ]
        }
      ]
    },
    {
      "cell_type": "markdown",
      "source": [
        "#**Step #8: Install nvm (Node Version Manager) by running the following command in a code cell:**"
      ],
      "metadata": {
        "id": "5wKHkdI-cIjO"
      }
    },
    {
      "cell_type": "code",
      "source": [
        "\n",
        "# Install nvm (Node Version Manager)\n",
        "!curl -o- https://raw.githubusercontent.com/nvm-sh/nvm/v0.38.0/install.sh | bash\n",
        "\n",
        "# Source nvm to make it available in your current session\n",
        "!source ~/.nvm/nvm.sh\n",
        "\n",
        "# Install a compatible Node.js version (e.g., 20.5.0)\n",
        "!nvm install 12.22.9\n",
        "\n",
        "# Use the installed Node.js version\n",
        "!nvm use 12.22.9"
      ],
      "metadata": {
        "colab": {
          "base_uri": "https://localhost:8080/"
        },
        "id": "LIzqwQf4cJOk",
        "outputId": "ef260322-5c5c-4eb0-b033-51d13eb621b4"
      },
      "execution_count": 65,
      "outputs": [
        {
          "output_type": "stream",
          "name": "stdout",
          "text": [
            "  % Total    % Received % Xferd  Average Speed   Time    Time     Time  Current\n",
            "                                 Dload  Upload   Total   Spent    Left  Speed\n",
            "100 14926  100 14926    0     0  38958      0 --:--:-- --:--:-- --:--:-- 39073\n",
            "=> nvm is already installed in /root/.nvm, trying to update using git\n",
            "=> => Compressing and cleaning up git repository\n",
            "\n",
            "=> nvm source string already in /root/.bashrc\n",
            "=> bash_completion source string already in /root/.bashrc\n",
            "ERROR: npm v10.2.1 is known not to run on Node.js v12.22.9.  This version of npm supports the following node versions: `^18.17.0 || >=20.5.0`. You can find the latest version at https://nodejs.org/.\n",
            "\n",
            "ERROR:\n",
            "/usr/lib/node_modules/npm/lib/utils/exit-handler.js:19\n",
            "  const hasLoadedNpm = npm?.config.loaded\n",
            "                           ^\n",
            "\n",
            "SyntaxError: Unexpected token '.'\n",
            "\u001b[90m    at wrapSafe (internal/modules/cjs/loader.js:915:16)\u001b[39m\n",
            "\u001b[90m    at Module._compile (internal/modules/cjs/loader.js:963:27)\u001b[39m\n",
            "\u001b[90m    at Object.Module._extensions..js (internal/modules/cjs/loader.js:1027:10)\u001b[39m\n",
            "\u001b[90m    at Module.load (internal/modules/cjs/loader.js:863:32)\u001b[39m\n",
            "\u001b[90m    at Function.Module._load (internal/modules/cjs/loader.js:708:14)\u001b[39m\n",
            "\u001b[90m    at Module.require (internal/modules/cjs/loader.js:887:19)\u001b[39m\n",
            "\u001b[90m    at require (internal/modules/cjs/helpers.js:74:18)\u001b[39m\n",
            "    at module.exports (/usr/lib/node_modules/\u001b[4mnpm\u001b[24m/lib/cli-entry.js:15:23)\n",
            "    at module.exports (/usr/lib/node_modules/\u001b[4mnpm\u001b[24m/lib/es6/validate-engines.js:39:10)\n",
            "    at module.exports (/usr/lib/node_modules/\u001b[4mnpm\u001b[24m/lib/cli.js:4:31)\n",
            "=> Close and reopen your terminal to start using nvm or run the following to use it now:\n",
            "\n",
            "export NVM_DIR=\"$HOME/.nvm\"\n",
            "[ -s \"$NVM_DIR/nvm.sh\" ] && \\. \"$NVM_DIR/nvm.sh\"  # This loads nvm\n",
            "[ -s \"$NVM_DIR/bash_completion\" ] && \\. \"$NVM_DIR/bash_completion\"  # This loads nvm bash_completion\n",
            "/bin/bash: line 1: nvm: command not found\n",
            "/bin/bash: line 1: nvm: command not found\n"
          ]
        }
      ]
    },
    {
      "cell_type": "markdown",
      "source": [
        "#**Step #9: Install the latest version of Node.js by running the following command:**"
      ],
      "metadata": {
        "id": "S4q8xPOQcJll"
      }
    },
    {
      "cell_type": "code",
      "source": [
        "\n",
        "# Install nvm (Node Version Manager)\n",
        "!curl -o- https://raw.githubusercontent.com/nvm-sh/nvm/v0.38.0/install.sh | bash\n",
        "\n",
        "# Source the nvm environment to make it available in your current session\n",
        "!source ~/.nvm/nvm.sh\n",
        "\n",
        "# Install the latest version of Node.js\n",
        "!nvm install node"
      ],
      "metadata": {
        "id": "pWw9SXp9cJ5M",
        "colab": {
          "base_uri": "https://localhost:8080/"
        },
        "outputId": "6f5e2075-05a0-4cae-8314-addbd885819a"
      },
      "execution_count": 52,
      "outputs": [
        {
          "output_type": "stream",
          "name": "stdout",
          "text": [
            "  % Total    % Received % Xferd  Average Speed   Time    Time     Time  Current\n",
            "                                 Dload  Upload   Total   Spent    Left  Speed\n",
            "\r  0     0    0     0    0     0      0      0 --:--:-- --:--:-- --:--:--     0\r  0     0    0     0    0     0      0      0 --:--:-- --:--:-- --:--:--     0\r100 14926  100 14926    0     0  70015      0 --:--:-- --:--:-- --:--:-- 69747\n",
            "=> nvm is already installed in /root/.nvm, trying to update using git\n",
            "\r=> => Compressing and cleaning up git repository\n",
            "\n",
            "=> nvm source string already in /root/.bashrc\n",
            "=> bash_completion source string already in /root/.bashrc\n",
            "ERROR: npm v10.2.1 is known not to run on Node.js v12.22.9.  This version of npm supports the following node versions: `^18.17.0 || >=20.5.0`. You can find the latest version at https://nodejs.org/.\n",
            "\n",
            "ERROR:\n",
            "/usr/lib/node_modules/npm/lib/utils/exit-handler.js:19\n",
            "  const hasLoadedNpm = npm?.config.loaded\n",
            "                           ^\n",
            "\n",
            "SyntaxError: Unexpected token '.'\n",
            "\u001b[90m    at wrapSafe (internal/modules/cjs/loader.js:915:16)\u001b[39m\n",
            "\u001b[90m    at Module._compile (internal/modules/cjs/loader.js:963:27)\u001b[39m\n",
            "\u001b[90m    at Object.Module._extensions..js (internal/modules/cjs/loader.js:1027:10)\u001b[39m\n",
            "\u001b[90m    at Module.load (internal/modules/cjs/loader.js:863:32)\u001b[39m\n",
            "\u001b[90m    at Function.Module._load (internal/modules/cjs/loader.js:708:14)\u001b[39m\n",
            "\u001b[90m    at Module.require (internal/modules/cjs/loader.js:887:19)\u001b[39m\n",
            "\u001b[90m    at require (internal/modules/cjs/helpers.js:74:18)\u001b[39m\n",
            "    at module.exports (/usr/lib/node_modules/\u001b[4mnpm\u001b[24m/lib/cli-entry.js:15:23)\n",
            "    at module.exports (/usr/lib/node_modules/\u001b[4mnpm\u001b[24m/lib/es6/validate-engines.js:39:10)\n",
            "    at module.exports (/usr/lib/node_modules/\u001b[4mnpm\u001b[24m/lib/cli.js:4:31)\n",
            "=> Close and reopen your terminal to start using nvm or run the following to use it now:\n",
            "\n",
            "export NVM_DIR=\"$HOME/.nvm\"\n",
            "[ -s \"$NVM_DIR/nvm.sh\" ] && \\. \"$NVM_DIR/nvm.sh\"  # This loads nvm\n",
            "[ -s \"$NVM_DIR/bash_completion\" ] && \\. \"$NVM_DIR/bash_completion\"  # This loads nvm bash_completion\n",
            "/bin/bash: line 1: nvm: command not found\n"
          ]
        }
      ]
    },
    {
      "cell_type": "markdown",
      "source": [
        "#**Step #10: To install nodemailer and google-auth-library using npm, you can use the following command in a code cell:**"
      ],
      "metadata": {
        "id": "sv4HpudYcKJR"
      }
    },
    {
      "cell_type": "code",
      "source": [
        "\n",
        "!npm install nodemailer google-auth-library"
      ],
      "metadata": {
        "id": "GFcCJmr4cKZQ",
        "colab": {
          "base_uri": "https://localhost:8080/"
        },
        "outputId": "27edfa41-4049-43f1-e56c-3f9aa502b693"
      },
      "execution_count": 66,
      "outputs": [
        {
          "output_type": "stream",
          "name": "stdout",
          "text": [
            "ERROR: npm v10.2.1 is known not to run on Node.js v12.22.9.  This version of npm supports the following node versions: `^18.17.0 || >=20.5.0`. You can find the latest version at https://nodejs.org/.\n",
            "\n",
            "ERROR:\n",
            "/usr/lib/node_modules/npm/lib/utils/exit-handler.js:19\n",
            "  const hasLoadedNpm = npm?.config.loaded\n",
            "                           ^\n",
            "\n",
            "SyntaxError: Unexpected token '.'\n",
            "\u001b[90m    at wrapSafe (internal/modules/cjs/loader.js:915:16)\u001b[39m\n",
            "\u001b[90m    at Module._compile (internal/modules/cjs/loader.js:963:27)\u001b[39m\n",
            "\u001b[90m    at Object.Module._extensions..js (internal/modules/cjs/loader.js:1027:10)\u001b[39m\n",
            "\u001b[90m    at Module.load (internal/modules/cjs/loader.js:863:32)\u001b[39m\n",
            "\u001b[90m    at Function.Module._load (internal/modules/cjs/loader.js:708:14)\u001b[39m\n",
            "\u001b[90m    at Module.require (internal/modules/cjs/loader.js:887:19)\u001b[39m\n",
            "\u001b[90m    at require (internal/modules/cjs/helpers.js:74:18)\u001b[39m\n",
            "    at module.exports (/usr/lib/node_modules/\u001b[4mnpm\u001b[24m/lib/cli-entry.js:15:23)\n",
            "    at module.exports (/usr/lib/node_modules/\u001b[4mnpm\u001b[24m/lib/es6/validate-engines.js:39:10)\n",
            "    at module.exports (/usr/lib/node_modules/\u001b[4mnpm\u001b[24m/lib/cli.js:4:31)\n"
          ]
        }
      ]
    },
    {
      "cell_type": "markdown",
      "source": [
        "#**Step #11. Create a new file in your project named \"server.js\" and require the nodemailer and google-auth-library packages. You can use the following code as a starting point:**"
      ],
      "metadata": {
        "id": "V1988VJGP41O"
      }
    },
    {
      "cell_type": "code",
      "source": [
        "const express = require('express');\n",
        "const bodyParser = require('body-parser');\n",
        "const nodemailer = require('nodemailer');\n",
        "const { google } = require('googleapis');\n",
        "const OAuth2 = google.auth.OAuth2;\n",
        "\n",
        "const app = express();\n",
        "app.use(bodyParser.urlencoded({ extended: true }));\n",
        "\n",
        "const CLIENT_ID = 'your_client_id';\n",
        "const CLIENT_SECRET = 'your_client_secret';\n",
        "const REDIRECT_URI = 'https://developers.google.com/oauthplayground';\n",
        "const REFRESH_TOKEN = 'your_refresh_token';\n",
        "\n",
        "const oauth2Client = new OAuth2(\n",
        "  CLIENT_ID,\n",
        "  CLIENT_SECRET,\n",
        "  REDIRECT_URI\n",
        ");\n",
        "oauth2Client.setCredentials({ refresh_token: REFRESH_TOKEN });\n",
        "\n",
        "async function sendMail() {\n",
        "  try {\n",
        "    const accessToken = await oauth2Client.getAccessToken();\n",
        "\n",
        "    const transporter = nodemailer.createTransport({\n",
        "      service: 'gmail',\n",
        "      auth: {\n",
        "        type: 'OAuth2',\n",
        "        user: 'your_email_address',\n",
        "        clientId: CLIENT_ID,\n",
        "        clientSecret: CLIENT_SECRET,\n",
        "        refreshToken: REFRESH_TOKEN,\n",
        "        accessToken: accessToken,\n",
        "        expires: 3600,\n",
        "      },\n",
        "    });\n",
        "\n",
        "    const mailOptions = {\n",
        "      from: 'your_email_address',\n",
        "      to: 'recipient_email_address',\n",
        "      subject: 'Test email',\n",
        "      text: 'This is a test email sent using nodemailer and Gmail API with OAuth2',\n",
        "    };\n",
        "\n",
        "    const result = await transporter.sendMail(mailOptions);\n",
        "    console.log(result);\n",
        "  } catch (error) {\n",
        "    console.log(error);\n",
        "  }\n",
        "}\n",
        "\n",
        "sendMail();"
      ],
      "metadata": {
        "id": "NKrL5inmP5Kc"
      },
      "execution_count": null,
      "outputs": []
    },
    {
      "cell_type": "markdown",
      "source": [],
      "metadata": {
        "id": "snB__UA1cMhA"
      }
    },
    {
      "cell_type": "code",
      "source": [],
      "metadata": {
        "id": "Ath5jCnCcNCF"
      },
      "execution_count": null,
      "outputs": []
    }
  ]
}