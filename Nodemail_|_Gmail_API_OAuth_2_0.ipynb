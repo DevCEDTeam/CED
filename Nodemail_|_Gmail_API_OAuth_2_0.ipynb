{
  "nbformat": 4,
  "nbformat_minor": 0,
  "metadata": {
    "colab": {
      "provenance": [],
      "authorship_tag": "ABX9TyPOvaFnJY8c/gA1eRuyqTZB",
      "include_colab_link": true
    },
    "kernelspec": {
      "name": "python3",
      "display_name": "Python 3"
    },
    "language_info": {
      "name": "python"
    }
  },
  "cells": [
    {
      "cell_type": "markdown",
      "metadata": {
        "id": "view-in-github",
        "colab_type": "text"
      },
      "source": [
        "<a href=\"https://colab.research.google.com/github/DevCEDTeam/CED/blob/main/Nodemail_%7C_Gmail_API_OAuth_2_0.ipynb\" target=\"_parent\"><img src=\"https://colab.research.google.com/assets/colab-badge.svg\" alt=\"Open In Colab\"/></a>"
      ]
    },
    {
      "cell_type": "markdown",
      "source": [],
      "metadata": {
        "id": "RgNeY1L8IcX5"
      }
    },
    {
      "cell_type": "markdown",
      "source": [
        "#**Step # 1: Mounted at /content/drive**"
      ],
      "metadata": {
        "id": "Hq1mSMFyPwLs"
      }
    },
    {
      "cell_type": "code",
      "source": [
        "from google.colab import drive\n",
        "drive.mount('/content/drive')"
      ],
      "metadata": {
        "colab": {
          "base_uri": "https://localhost:8080/"
        },
        "id": "mm6TA0397jcY",
        "outputId": "266730c7-e59b-4b30-a2d2-0ffdceec53a2"
      },
      "execution_count": 39,
      "outputs": [
        {
          "output_type": "stream",
          "name": "stdout",
          "text": [
            "Drive already mounted at /content/drive; to attempt to forcibly remount, call drive.mount(\"/content/drive\", force_remount=True).\n"
          ]
        }
      ]
    },
    {
      "cell_type": "markdown",
      "source": [
        "#**Step #2: Uninstall the current version of npm by running the following command in a code cell:**"
      ],
      "metadata": {
        "id": "EezrWBdXp8oA"
      }
    },
    {
      "cell_type": "code",
      "source": [
        "\n",
        "!npm uninstall -g npm"
      ],
      "metadata": {
        "colab": {
          "base_uri": "https://localhost:8080/"
        },
        "id": "k7Zfh8X2py98",
        "outputId": "0ee01e31-8c98-4f7f-9cae-a8774788eb44"
      },
      "execution_count": 40,
      "outputs": [
        {
          "output_type": "stream",
          "name": "stdout",
          "text": [
            "ERROR: npm v10.2.1 is known not to run on Node.js v12.22.9.  This version of npm supports the following node versions: `^18.17.0 || >=20.5.0`. You can find the latest version at https://nodejs.org/.\n",
            "\n",
            "ERROR:\n",
            "/usr/lib/node_modules/npm/lib/utils/exit-handler.js:19\n",
            "  const hasLoadedNpm = npm?.config.loaded\n",
            "                           ^\n",
            "\n",
            "SyntaxError: Unexpected token '.'\n",
            "\u001b[90m    at wrapSafe (internal/modules/cjs/loader.js:915:16)\u001b[39m\n",
            "\u001b[90m    at Module._compile (internal/modules/cjs/loader.js:963:27)\u001b[39m\n",
            "\u001b[90m    at Object.Module._extensions..js (internal/modules/cjs/loader.js:1027:10)\u001b[39m\n",
            "\u001b[90m    at Module.load (internal/modules/cjs/loader.js:863:32)\u001b[39m\n",
            "\u001b[90m    at Function.Module._load (internal/modules/cjs/loader.js:708:14)\u001b[39m\n",
            "\u001b[90m    at Module.require (internal/modules/cjs/loader.js:887:19)\u001b[39m\n",
            "\u001b[90m    at require (internal/modules/cjs/helpers.js:74:18)\u001b[39m\n",
            "    at module.exports (/usr/lib/node_modules/\u001b[4mnpm\u001b[24m/lib/cli-entry.js:15:23)\n",
            "    at module.exports (/usr/lib/node_modules/\u001b[4mnpm\u001b[24m/lib/es6/validate-engines.js:39:10)\n",
            "    at module.exports (/usr/lib/node_modules/\u001b[4mnpm\u001b[24m/lib/cli.js:4:31)\n"
          ]
        }
      ]
    },
    {
      "cell_type": "markdown",
      "source": [
        "#**Step #3: Install the latest version of npm by running the following command in a code cell:**"
      ],
      "metadata": {
        "id": "nqQwLsSVqUGm"
      }
    },
    {
      "cell_type": "code",
      "source": [
        "\n",
        "!npm install -g npm@latest"
      ],
      "metadata": {
        "id": "Ub-X12K7pQFe"
      },
      "execution_count": null,
      "outputs": []
    },
    {
      "cell_type": "markdown",
      "source": [
        "#**Step #4: Verify that the latest version of npm is installed by running the following command in a code cell:**"
      ],
      "metadata": {
        "id": "Wt5c9UBopQeN"
      }
    },
    {
      "cell_type": "code",
      "source": [
        "\n",
        "!npm --version"
      ],
      "metadata": {
        "id": "YcwV4wippQqh"
      },
      "execution_count": null,
      "outputs": []
    },
    {
      "cell_type": "markdown",
      "source": [
        "#**Step #5: Install Node.js in your Google Colab environment:**"
      ],
      "metadata": {
        "id": "OwRIOvslP0Jj"
      }
    },
    {
      "cell_type": "code",
      "source": [
        "!apt-get update\n",
        "!apt-get install -y nodejs\n",
        "!npm install -g npm"
      ],
      "metadata": {
        "id": "GRbasVTIP3f7"
      },
      "execution_count": null,
      "outputs": []
    },
    {
      "cell_type": "markdown",
      "source": [
        "#**Step #6: Update the version of Python by running the following command in a cell of your Colab notebook:**"
      ],
      "metadata": {
        "id": "Th_a2KUPTbNu"
      }
    },
    {
      "cell_type": "code",
      "source": [
        "!sudo apt-get update -y\n",
        "!sudo apt-get install python3.9\n",
        "!sudo update-alternatives --install /usr/bin/python3 python3 /usr/bin/python3.7 1\n",
        "!sudo update-alternatives --config python3"
      ],
      "metadata": {
        "id": "2yGPZqzHTase"
      },
      "execution_count": null,
      "outputs": []
    },
    {
      "cell_type": "markdown",
      "source": [
        "#**Step #7: Check the current version of Node.js used by the notebook by running the command `!node --version` in a code cell.**"
      ],
      "metadata": {
        "id": "psk2rOZMP4AM"
      }
    },
    {
      "cell_type": "code",
      "source": [
        "!node --version"
      ],
      "metadata": {
        "colab": {
          "base_uri": "https://localhost:8080/"
        },
        "id": "WW9w-GlaP4bT",
        "outputId": "bf73c798-c241-4df4-965a-176a86ceb959"
      },
      "execution_count": null,
      "outputs": [
        {
          "output_type": "stream",
          "name": "stdout",
          "text": [
            "v12.22.9\n"
          ]
        }
      ]
    },
    {
      "cell_type": "markdown",
      "source": [
        "#**Step #8: Install nvm (Node Version Manager) by running the following command in a code cell:**"
      ],
      "metadata": {
        "id": "5wKHkdI-cIjO"
      }
    },
    {
      "cell_type": "code",
      "source": [
        "\n",
        "# Install nvm (Node Version Manager)\n",
        "!curl -o- https://raw.githubusercontent.com/nvm-sh/nvm/v0.38.0/install.sh | bash\n",
        "\n",
        "# Source nvm to make it available in your current session\n",
        "!source ~/.nvm/nvm.sh\n",
        "\n",
        "# Install a compatible Node.js version (e.g., 20.5.0)\n",
        "!nvm install 12.22.9\n",
        "\n",
        "# Use the installed Node.js version\n",
        "!nvm use 12.22.9"
      ],
      "metadata": {
        "id": "LIzqwQf4cJOk"
      },
      "execution_count": null,
      "outputs": []
    },
    {
      "cell_type": "markdown",
      "source": [
        "#**Step #9: Install the latest version of Node.js by running the following command:**"
      ],
      "metadata": {
        "id": "S4q8xPOQcJll"
      }
    },
    {
      "cell_type": "code",
      "source": [
        "\n",
        "# Install nvm (Node Version Manager)\n",
        "!curl -o- https://raw.githubusercontent.com/nvm-sh/nvm/v0.38.0/install.sh | bash\n",
        "\n",
        "# Source the nvm environment to make it available in your current session\n",
        "!source ~/.nvm/nvm.sh\n",
        "\n",
        "# Install the latest version of Node.js\n",
        "!nvm install node"
      ],
      "metadata": {
        "id": "pWw9SXp9cJ5M"
      },
      "execution_count": null,
      "outputs": []
    },
    {
      "cell_type": "markdown",
      "source": [
        "#**Step #10: To install nodemailer and google-auth-library using npm, you can use the following command in a code cell:**"
      ],
      "metadata": {
        "id": "sv4HpudYcKJR"
      }
    },
    {
      "cell_type": "code",
      "source": [
        "\n",
        "!npm install nodemailer google-auth-library"
      ],
      "metadata": {
        "id": "GFcCJmr4cKZQ"
      },
      "execution_count": null,
      "outputs": []
    },
    {
      "cell_type": "markdown",
      "source": [
        "#**Step #11. Create a new file in your project named \"server.js\" and require the nodemailer and google-auth-library packages. You can use the following code as a starting point:**"
      ],
      "metadata": {
        "id": "V1988VJGP41O"
      }
    },
    {
      "cell_type": "code",
      "source": [
        "const express = require('express');\n",
        "const bodyParser = require('body-parser');\n",
        "const nodemailer = require('nodemailer');\n",
        "const { google } = require('googleapis');\n",
        "const OAuth2 = google.auth.OAuth2;\n",
        "\n",
        "const app = express();\n",
        "app.use(bodyParser.urlencoded({ extended: true }));\n",
        "\n",
        "const CLIENT_ID = 'your_client_id';\n",
        "const CLIENT_SECRET = 'your_client_secret';\n",
        "const REDIRECT_URI = 'https://developers.google.com/oauthplayground';\n",
        "const REFRESH_TOKEN = 'your_refresh_token';\n",
        "\n",
        "const oauth2Client = new OAuth2(\n",
        "  CLIENT_ID,\n",
        "  CLIENT_SECRET,\n",
        "  REDIRECT_URI\n",
        ");\n",
        "oauth2Client.setCredentials({ refresh_token: REFRESH_TOKEN });\n",
        "\n",
        "async function sendMail() {\n",
        "  try {\n",
        "    const accessToken = await oauth2Client.getAccessToken();\n",
        "\n",
        "    const transporter = nodemailer.createTransport({\n",
        "      service: 'gmail',\n",
        "      auth: {\n",
        "        type: 'OAuth2',\n",
        "        user: 'your_email_address',\n",
        "        clientId: CLIENT_ID,\n",
        "        clientSecret: CLIENT_SECRET,\n",
        "        refreshToken: REFRESH_TOKEN,\n",
        "        accessToken: accessToken,\n",
        "        expires: 3600,\n",
        "      },\n",
        "    });\n",
        "\n",
        "    const mailOptions = {\n",
        "      from: 'your_email_address',\n",
        "      to: 'recipient_email_address',\n",
        "      subject: 'Test email',\n",
        "      text: 'This is a test email sent using nodemailer and Gmail API with OAuth2',\n",
        "    };\n",
        "\n",
        "    const result = await transporter.sendMail(mailOptions);\n",
        "    console.log(result);\n",
        "  } catch (error) {\n",
        "    console.log(error);\n",
        "  }\n",
        "}\n",
        "\n",
        "sendMail();"
      ],
      "metadata": {
        "id": "NKrL5inmP5Kc"
      },
      "execution_count": null,
      "outputs": []
    },
    {
      "cell_type": "markdown",
      "source": [],
      "metadata": {
        "id": "snB__UA1cMhA"
      }
    },
    {
      "cell_type": "code",
      "source": [],
      "metadata": {
        "id": "Ath5jCnCcNCF"
      },
      "execution_count": null,
      "outputs": []
    }
  ]
}