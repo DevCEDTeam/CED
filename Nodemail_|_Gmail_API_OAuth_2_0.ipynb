{
  "nbformat": 4,
  "nbformat_minor": 0,
  "metadata": {
    "colab": {
      "provenance": [],
      "authorship_tag": "ABX9TyM0iUQbQNYVdCyRahFMgCM+",
      "include_colab_link": true
    },
    "kernelspec": {
      "name": "python3",
      "display_name": "Python 3"
    },
    "language_info": {
      "name": "python"
    }
  },
  "cells": [
    {
      "cell_type": "markdown",
      "metadata": {
        "id": "view-in-github",
        "colab_type": "text"
      },
      "source": [
        "<a href=\"https://colab.research.google.com/github/DevCEDTeam/CED/blob/main/Nodemail_%7C_Gmail_API_OAuth_2_0.ipynb\" target=\"_parent\"><img src=\"https://colab.research.google.com/assets/colab-badge.svg\" alt=\"Open In Colab\"/></a>"
      ]
    },
    {
      "cell_type": "markdown",
      "source": [],
      "metadata": {
        "id": "RgNeY1L8IcX5"
      }
    },
    {
      "cell_type": "markdown",
      "source": [
        "#**Step #1. Install Node.js in your Google Colab environment:**"
      ],
      "metadata": {
        "id": "Hq1mSMFyPwLs"
      }
    },
    {
      "cell_type": "code",
      "source": [
        "from google.colab import drive\n",
        "drive.mount('/content/drive')"
      ],
      "metadata": {
        "colab": {
          "base_uri": "https://localhost:8080/"
        },
        "id": "mm6TA0397jcY",
        "outputId": "8f36874d-0f6a-4c28-fe10-0bb368bb2531"
      },
      "execution_count": null,
      "outputs": [
        {
          "output_type": "stream",
          "name": "stdout",
          "text": [
            "Drive already mounted at /content/drive; to attempt to forcibly remount, call drive.mount(\"/content/drive\", force_remount=True).\n"
          ]
        }
      ]
    },
    {
      "cell_type": "markdown",
      "source": [
        "#**Step #2. Install Node.js in your Google Colab environment:**"
      ],
      "metadata": {
        "id": "OwRIOvslP0Jj"
      }
    },
    {
      "cell_type": "code",
      "source": [
        "!apt-get update\n",
        "!apt-get install -y nodejs\n",
        "!npm install -g npm"
      ],
      "metadata": {
        "id": "GRbasVTIP3f7"
      },
      "execution_count": null,
      "outputs": []
    },
    {
      "cell_type": "markdown",
      "source": [
        "#**Step #3: Update the version of Python by running the following command in a cell of your Colab notebook:**"
      ],
      "metadata": {
        "id": "Th_a2KUPTbNu"
      }
    },
    {
      "cell_type": "code",
      "source": [
        "!sudo apt-get update -y\n",
        "!sudo apt-get install python3.9\n",
        "!sudo update-alternatives --install /usr/bin/python3 python3 /usr/bin/python3.7 1\n",
        "!sudo update-alternatives --config python3"
      ],
      "metadata": {
        "id": "2yGPZqzHTase"
      },
      "execution_count": null,
      "outputs": []
    },
    {
      "cell_type": "markdown",
      "source": [
        "#**Step #4: Check the current version of Node.js used by the notebook by running the command `!node --version` in a code cell.**"
      ],
      "metadata": {
        "id": "psk2rOZMP4AM"
      }
    },
    {
      "cell_type": "code",
      "source": [
        "!node --version"
      ],
      "metadata": {
        "colab": {
          "base_uri": "https://localhost:8080/"
        },
        "id": "WW9w-GlaP4bT",
        "outputId": "bf73c798-c241-4df4-965a-176a86ceb959"
      },
      "execution_count": null,
      "outputs": [
        {
          "output_type": "stream",
          "name": "stdout",
          "text": [
            "v12.22.9\n"
          ]
        }
      ]
    },
    {
      "cell_type": "markdown",
      "source": [
        "#**Step #5: Install nvm (Node Version Manager) by running the following command in a code cell:**"
      ],
      "metadata": {
        "id": "5wKHkdI-cIjO"
      }
    },
    {
      "cell_type": "code",
      "source": [
        "\n",
        "!curl -o- https://raw.githubusercontent.com/nvm-sh/nvm/v0.38.0/install.sh | bash"
      ],
      "metadata": {
        "id": "LIzqwQf4cJOk"
      },
      "execution_count": null,
      "outputs": []
    },
    {
      "cell_type": "markdown",
      "source": [
        "#**Step #6: Install the latest version of Node.js by running the following command:**"
      ],
      "metadata": {
        "id": "S4q8xPOQcJll"
      }
    },
    {
      "cell_type": "code",
      "source": [
        "\n",
        "!nvm install node"
      ],
      "metadata": {
        "id": "pWw9SXp9cJ5M",
        "colab": {
          "base_uri": "https://localhost:8080/"
        },
        "outputId": "87fd254d-8395-4cae-f7e3-7bca2d21a167"
      },
      "execution_count": 25,
      "outputs": [
        {
          "output_type": "stream",
          "name": "stdout",
          "text": [
            "/bin/bash: line 1: nvm: command not found\n"
          ]
        }
      ]
    },
    {
      "cell_type": "markdown",
      "source": [
        "#**Step #7: To install nodemailer and google-auth-library using npm, you can use the following command in a code cell:**"
      ],
      "metadata": {
        "id": "sv4HpudYcKJR"
      }
    },
    {
      "cell_type": "code",
      "source": [
        "\n",
        "!npm install nodemailer google-auth-library"
      ],
      "metadata": {
        "id": "GFcCJmr4cKZQ"
      },
      "execution_count": null,
      "outputs": []
    },
    {
      "cell_type": "markdown",
      "source": [
        "#**Step #5. Create a new file in your project named \"server.js\" and require the nodemailer and google-auth-library packages. You can use the following code as a starting point:**"
      ],
      "metadata": {
        "id": "V1988VJGP41O"
      }
    },
    {
      "cell_type": "code",
      "source": [
        "const express = require('express');\n",
        "const bodyParser = require('body-parser');\n",
        "const nodemailer = require('nodemailer');\n",
        "const { google } = require('googleapis');\n",
        "const OAuth2 = google.auth.OAuth2;\n",
        "\n",
        "const app = express();\n",
        "app.use(bodyParser.urlencoded({ extended: true }));\n",
        "\n",
        "const CLIENT_ID = 'your_client_id';\n",
        "const CLIENT_SECRET = 'your_client_secret';\n",
        "const REDIRECT_URI = 'https://developers.google.com/oauthplayground';\n",
        "const REFRESH_TOKEN = 'your_refresh_token';\n",
        "\n",
        "const oauth2Client = new OAuth2(\n",
        "  CLIENT_ID,\n",
        "  CLIENT_SECRET,\n",
        "  REDIRECT_URI\n",
        ");\n",
        "oauth2Client.setCredentials({ refresh_token: REFRESH_TOKEN });\n",
        "\n",
        "async function sendMail() {\n",
        "  try {\n",
        "    const accessToken = await oauth2Client.getAccessToken();\n",
        "\n",
        "    const transporter = nodemailer.createTransport({\n",
        "      service: 'gmail',\n",
        "      auth: {\n",
        "        type: 'OAuth2',\n",
        "        user: 'your_email_address',\n",
        "        clientId: CLIENT_ID,\n",
        "        clientSecret: CLIENT_SECRET,\n",
        "        refreshToken: REFRESH_TOKEN,\n",
        "        accessToken: accessToken,\n",
        "        expires: 3600,\n",
        "      },\n",
        "    });\n",
        "\n",
        "    const mailOptions = {\n",
        "      from: 'your_email_address',\n",
        "      to: 'recipient_email_address',\n",
        "      subject: 'Test email',\n",
        "      text: 'This is a test email sent using nodemailer and Gmail API with OAuth2',\n",
        "    };\n",
        "\n",
        "    const result = await transporter.sendMail(mailOptions);\n",
        "    console.log(result);\n",
        "  } catch (error) {\n",
        "    console.log(error);\n",
        "  }\n",
        "}\n",
        "\n",
        "sendMail();"
      ],
      "metadata": {
        "id": "NKrL5inmP5Kc"
      },
      "execution_count": null,
      "outputs": []
    },
    {
      "cell_type": "markdown",
      "source": [],
      "metadata": {
        "id": "snB__UA1cMhA"
      }
    },
    {
      "cell_type": "code",
      "source": [],
      "metadata": {
        "id": "Ath5jCnCcNCF"
      },
      "execution_count": null,
      "outputs": []
    }
  ]
}