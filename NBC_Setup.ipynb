{
  "cells": [
    {
      "cell_type": "markdown",
      "metadata": {
        "id": "view-in-github",
        "colab_type": "text"
      },
      "source": [
        "<a href=\"https://colab.research.google.com/github/DevCEDTeam/CED/blob/main/NBC_Setup.ipynb\" target=\"_parent\"><img src=\"https://colab.research.google.com/assets/colab-badge.svg\" alt=\"Open In Colab\"/></a>"
      ]
    },
    {
      "cell_type": "markdown",
      "source": [
        "# **Step # 1: Mounted at /content/drive**"
      ],
      "metadata": {
        "id": "-x2p5VSe3NAJ"
      }
    },
    {
      "cell_type": "code",
      "source": [
        "from google.colab import drive\n",
        "drive.mount('/content/drive')"
      ],
      "metadata": {
        "colab": {
          "base_uri": "https://localhost:8080/"
        },
        "id": "mm6TA0397jcY",
        "outputId": "0a330851-60d7-4bda-8be8-cbf61cd0bfd8"
      },
      "execution_count": 1,
      "outputs": [
        {
          "output_type": "stream",
          "name": "stdout",
          "text": [
            "Drive already mounted at /content/drive; to attempt to forcibly remount, call drive.mount(\"/content/drive\", force_remount=True).\n"
          ]
        }
      ]
    },
    {
      "cell_type": "markdown",
      "source": [
        "#**Step #2: Change director (\"cd\")  | path content/drive/MyDrive/projects/dataset/oc-voter-list/master/**"
      ],
      "metadata": {
        "id": "8xRNs3233eNm"
      }
    },
    {
      "cell_type": "code",
      "execution_count": 2,
      "metadata": {
        "colab": {
          "base_uri": "https://localhost:8080/"
        },
        "id": "cdCl68eJmXws",
        "outputId": "56319103-5c41-4f68-bad2-f13adfdf8abf"
      },
      "outputs": [
        {
          "output_type": "stream",
          "name": "stdout",
          "text": [
            "/content/drive/MyDrive/projects/dataset/oc-voter-list/master\n"
          ]
        }
      ],
      "source": [
        "cd /content/drive/MyDrive/projects/dataset/oc-voter-list/master/"
      ]
    },
    {
      "cell_type": "markdown",
      "source": [
        "#**Step # 3:  ls:  Lists the files and directories in the current working directory**"
      ],
      "metadata": {
        "id": "yUpRK7QM3i7L"
      }
    },
    {
      "cell_type": "code",
      "execution_count": 3,
      "metadata": {
        "colab": {
          "base_uri": "https://localhost:8080/"
        },
        "id": "gb-MrDo_mj6n",
        "outputId": "f3d98704-2256-4d2a-e325-b1acbdc8fccd"
      },
      "outputs": [
        {
          "output_type": "stream",
          "name": "stdout",
          "text": [
            " cntywd_02102023.csv    cntywd_02102023.xlsx\t cntywd_Hist_021023.txt\n",
            " cntywd_02102023_.txt   cntywd_Hist_021023.csv\t'RVF Layout.pdf'\n"
          ]
        }
      ],
      "source": [
        "!ls"
      ]
    },
    {
      "cell_type": "code",
      "source": [],
      "metadata": {
        "id": "VD_voTw1BssC"
      },
      "execution_count": null,
      "outputs": []
    },
    {
      "cell_type": "markdown",
      "metadata": {
        "id": "ijkbjbHMXRTg"
      },
      "source": [
        "Locate Directory\n",
        "\n"
      ]
    },
    {
      "cell_type": "markdown",
      "metadata": {
        "id": "SybZsln8mJLT"
      },
      "source": [
        "#**Step #4: Print the top Row Header**"
      ]
    },
    {
      "cell_type": "code",
      "execution_count": null,
      "metadata": {
        "colab": {
          "base_uri": "https://localhost:8080/"
        },
        "id": "nL0vdDVamInv",
        "outputId": "06f3bd08-05f8-4ff7-c97d-a810616c38d7"
      },
      "outputs": [
        {
          "name": "stdout",
          "output_type": "stream",
          "text": [
            "['lVoterUniqueID', 'sAffNumber', 'szStateVoterID', 'sVoterTitle', 'szNameLast', 'szNameFirst', 'szNameMiddle', 'sNameSuffix', 'sGender', 'szSitusAddress', 'szSitusCity', 'sSitusState', 'sSitusZip', 'sHouseNum', 'sUnitAbbr', 'sUnitNum', 'szStreetName', 'sStreetSuffix', 'sPreDir', 'sPostDir', 'szMailAddress1', 'szMailAddress2', 'szMailAddress3', 'szMailAddress4', 'szMailZip', 'szPhone', 'szEmailAddress', 'dtBirthDate', 'sBirthPlace', 'dtRegDate', 'dtOrigRegDate', 'dtLastUpdate_dt', 'sStatusCode', 'szStatusReasonDesc', 'sUserCode1', 'sUserCode2', 'iDuplicateIDFlag', 'szLanguageName', 'szPartyName', 'szAVStatusAbbr', 'szAVStatusDesc', 'szPrecinctName', 'sPrecinctID', 'sPrecinctPortion', 'sDistrictID_0', 'iSubDistrict_0', 'szDistrictName_0', 'sDistrictID_1', 'iSubDistrict_1', 'szDistrictName_1', 'sDistrictID_2', 'iSubDistrict_2', 'szDistrictName_2', 'sDistrictID_3', 'iSubDistrict_3', 'szDistrictName_3', 'sDistrictID_4', 'iSubDistrict_4', 'szDistrictName_4', 'sDistrictID_5', 'iSubDistrict_5', 'szDistrictName_5']\n"
          ]
        }
      ],
      "source": [
        "# To Using Pandas write a script  to convert a .txt file with space-tab (t) separator and ANSI encoding into a CSV file using a Pandas snippet in Google Colab.\n",
        "\n",
        "# You can use the 'ISO-8859-1' encoding instead. Here's the corrected code:\n",
        "\n",
        "\n",
        "import pandas as pd\n",
        "\n",
        "# Define the input .txt file path\n",
        "input_txt_file = '/content/drive/MyDrive/projects/dataset/oc-voter-list/master/cntywd_02102023_.txt'\n",
        "\n",
        "# Read the first row from the .txt file (assuming the header is in the first row)\n",
        "with open(input_txt_file, 'r', encoding='ISO-8859-1') as file:\n",
        "    # Read the first line\n",
        "    first_line = file.readline()\n",
        "\n",
        "# Split the first line using space and tab (t) as the separator\n",
        "header = first_line.strip().split('\\t')\n",
        "\n",
        "# Print the top row header\n",
        "print(header)\n",
        "\n"
      ]
    },
    {
      "cell_type": "markdown",
      "metadata": {
        "id": "Xz2aigrqsRPn"
      },
      "source": [
        "#**Step #5: Print top 500 Rows**"
      ]
    },
    {
      "cell_type": "code",
      "execution_count": null,
      "metadata": {
        "colab": {
          "base_uri": "https://localhost:8080/"
        },
        "id": "8I3G-nAAsQxM",
        "outputId": "dab1ac20-7797-4d8d-febd-166d0ad59932"
      },
      "outputs": [
        {
          "name": "stderr",
          "output_type": "stream",
          "text": [
            "<ipython-input-31-0e9b6da82834>:20: DtypeWarning: Columns (13,18,19) have mixed types. Specify dtype option on import or set low_memory=False.\n",
            "  df = pd.read_csv(input_txt_file, sep='\\t', encoding='ISO-8859-1', dtype=dtypes)\n"
          ]
        },
        {
          "name": "stdout",
          "output_type": "stream",
          "text": [
            "                     szEmailAddress szNameFirst      szNameLast\n",
            "0                               NaN        Ruth       Rodriguez\n",
            "1         brianschoonover@yahoo.com       Brian      Schoonover\n",
            "2         brianschoonover@yahoo.com       Julie      Schoonover\n",
            "3    ROSEMARYAVELLANEDA58@GMAIL.COM    Rosemary      Avellaneda\n",
            "4                               NaN        Tony         Garduno\n",
            "..                              ...         ...             ...\n",
            "495                             NaN      Lareva         Branden\n",
            "496                             NaN    Bilberto       Hernandez\n",
            "497     ANTONIOEHERNANDEZ@GMAIL.COM     Antonio  Hernandezpablo\n",
            "498                             NaN       Bryan        Baltazar\n",
            "499                             NaN       Oscar          Rendon\n",
            "\n",
            "[500 rows x 3 columns]\n"
          ]
        }
      ],
      "source": [
        "# It seems you want to read a .txt file with space-tab (t) separator and ANSI encoding into a Pandas DataFrame, create a new DataFrame with specific values, and then print only the top 500 rows. I've corrected the code and provided the following snippet for your task:\n",
        "\n",
        "\n",
        "# My apologies for the error. It seems there's a mismatch between the number of columns in the header and the number of columns in the provided values. To fix this, we should ensure that the number of columns in the header matches the number of values you want to insert. Here's the corrected code:\n",
        "\n",
        "\n",
        "import pandas as pd\n",
        "\n",
        "# Define the input .txt file path\n",
        "input_txt_file = '/content/drive/MyDrive/projects/dataset/oc-voter-list/master/cntywd_02102023_.txt'\n",
        "\n",
        "# Define data types for the columns\n",
        "dtypes = {\n",
        "    'szEmailAddress': str,\n",
        "    'szNameFirst': str,\n",
        "    'szNameLast': str,\n",
        "}\n",
        "\n",
        "# Read the data from the .txt file with specified data types\n",
        "df = pd.read_csv(input_txt_file, sep='\\t', encoding='ISO-8859-1', dtype=dtypes)\n",
        "\n",
        "# Remove rows with 'NaN' or '...' in the 'szEmailAddress' column\n",
        "df = df[df['szEmailAddress'].apply(lambda x: x not in ['NaN', '...'])]\n",
        "\n",
        "# Print the top 500 rows of the specified columns\n",
        "print(df[['szEmailAddress', 'szNameFirst', 'szNameLast']].head(500))\n",
        "\n",
        "\n",
        "\n",
        "\n",
        "\n",
        "\n"
      ]
    },
    {
      "cell_type": "markdown",
      "metadata": {
        "id": "GPJgl2gU3a2i"
      },
      "source": [
        "#**Step #6: Print top 500 Rows and remove 'NAN' rows**"
      ]
    },
    {
      "cell_type": "code",
      "execution_count": 7,
      "metadata": {
        "colab": {
          "base_uri": "https://localhost:8080/"
        },
        "id": "V8k4xvDC3aH_",
        "outputId": "90b5e246-aa4b-4e03-d566-3caead654cd3"
      },
      "outputs": [
        {
          "output_type": "stream",
          "name": "stderr",
          "text": [
            "<ipython-input-7-8ac51ee951a2>:14: DtypeWarning: Columns (13,18,19) have mixed types. Specify dtype option on import or set low_memory=False.\n",
            "  df = pd.read_csv(input_txt_file, sep='\\t', encoding='ISO-8859-1', dtype=dtypes)\n"
          ]
        },
        {
          "output_type": "stream",
          "name": "stdout",
          "text": [
            "                      szEmailAddress szNameFirst      szNameLast\n",
            "1          brianschoonover@yahoo.com       Brian      Schoonover\n",
            "2          brianschoonover@yahoo.com       Julie      Schoonover\n",
            "3     ROSEMARYAVELLANEDA58@GMAIL.COM    Rosemary      Avellaneda\n",
            "5        Janely.avellaneda@yahoo.com      Janely         Garduno\n",
            "7          froggylover1984@yahoo.com       Vilma       Alcantara\n",
            "...                              ...         ...             ...\n",
            "1160         FLAKA.PRADO22@GMAIL.COM     Beverly           Prado\n",
            "1161       JNOATHANSOLANOF@GMAOL.COM    Jonathan  Solanoaparicio\n",
            "1166          monica_551@hotmail.com      Monica         Estrada\n",
            "1171         victormsoto03@gmail.com      Victor            Soto\n",
            "1172              juliavertiz@me.com       Julia          Vertiz\n",
            "\n",
            "[500 rows x 3 columns]\n"
          ]
        }
      ],
      "source": [
        "import pandas as pd\n",
        "\n",
        "# Define the input .txt file path\n",
        "input_txt_file = '/content/drive/MyDrive/projects/dataset/oc-voter-list/master/cntywd_02102023_.txt'\n",
        "\n",
        "# Define data types for the columns\n",
        "dtypes = {\n",
        "    'szEmailAddress': str,\n",
        "    'szNameFirst': str,\n",
        "    'szNameLast': str,\n",
        "}\n",
        "\n",
        "# Read the data from the .txt file with specified data types\n",
        "df = pd.read_csv(input_txt_file, sep='\\t', encoding='ISO-8859-1', dtype=dtypes)\n",
        "\n",
        "# Remove rows with 'NaN' values in the 'szEmailAddress' column\n",
        "df = df.dropna(subset=['szEmailAddress'])\n",
        "\n",
        "# Print the top 500 rows of the specified columns\n",
        "print(df[['szEmailAddress', 'szNameFirst', 'szNameLast']].head(500))\n",
        "\n",
        "\n",
        "\n"
      ]
    },
    {
      "cell_type": "markdown",
      "metadata": {
        "id": "D7-5f6sbb1vE"
      },
      "source": [
        "**Convert the .TXT file to .CSV file**"
      ]
    },
    {
      "cell_type": "code",
      "execution_count": 4,
      "metadata": {
        "colab": {
          "base_uri": "https://localhost:8080/"
        },
        "id": "-ZxwqzIdeE3s",
        "outputId": "7e080a98-7efb-433d-bec7-edf7e24aa077"
      },
      "outputs": [
        {
          "output_type": "stream",
          "name": "stderr",
          "text": [
            "<ipython-input-4-70170cc4df70>:17: DtypeWarning: Columns (13,18,19) have mixed types. Specify dtype option on import or set low_memory=False.\n",
            "  df = pd.read_csv(input_txt_file, sep='\\t', encoding='ISO-8859-1', dtype=dtypes)\n"
          ]
        }
      ],
      "source": [
        "import pandas as pd\n",
        "\n",
        "# Define the input .txt file path\n",
        "input_txt_file = '/content/drive/MyDrive/projects/dataset/oc-voter-list/master/cntywd_02102023_.txt'\n",
        "\n",
        "# Define the output .csv file path\n",
        "output_csv_file = '/content/drive/MyDrive/projects/dataset/oc-voter-list/campaigns/nbc#003/NBC0003-11-10-2023-c-test.txt'\n",
        "\n",
        "# Define data types for the columns\n",
        "dtypes = {\n",
        "    'szEmailAddress': str,\n",
        "    'szNameFirst': str,\n",
        "    'szNameLast': str,\n",
        "}\n",
        "\n",
        "# Read the data from the .txt file with specified data types\n",
        "df = pd.read_csv(input_txt_file, sep='\\t', encoding='ISO-8859-1', dtype=dtypes)\n",
        "\n",
        "# Remove rows with 'NaN' values in the 'szEmailAddress' column\n",
        "df = df.dropna(subset=['szEmailAddress'])\n",
        "\n",
        "# Write the data to the output .csv file\n",
        "df.to_csv(output_csv_file, index=False)\n"
      ]
    },
    {
      "cell_type": "markdown",
      "metadata": {
        "id": "WWN3FaNIE5-k"
      },
      "source": [
        "**Convert .TXT and Export File**"
      ]
    },
    {
      "cell_type": "code",
      "execution_count": 5,
      "metadata": {
        "colab": {
          "base_uri": "https://localhost:8080/"
        },
        "id": "poxtEwIiE5YZ",
        "outputId": "46c0ab4b-4d54-44b9-ea0a-195a3edaae7d"
      },
      "outputs": [
        {
          "output_type": "stream",
          "name": "stderr",
          "text": [
            "<ipython-input-5-98f1e65c04c7>:15: DtypeWarning: Columns (13,18,19) have mixed types. Specify dtype option on import or set low_memory=False.\n",
            "  df = pd.read_csv(input_txt_file, sep='\\t', encoding='ISO-8859-1', dtype=dtypes)\n"
          ]
        },
        {
          "output_type": "stream",
          "name": "stdout",
          "text": [
            "(1810164, 3)\n",
            "(832368, 3)\n",
            "szEmailAddress    TANHUNGHOIAN@YAHOO.COM\n",
            "szNameFirst                         Hung\n",
            "szNameLast                        Nguyen\n",
            "Name: 12879, dtype: object\n",
            "Export completed. Text file saved as /content/drive/MyDrive/projects/dataset/oc-voter-list/campaigns/nbc#003/NBC0003-11-10-2023-d-test.txt\n"
          ]
        }
      ],
      "source": [
        "import pandas as pd\n",
        "\n",
        "# Define file paths\n",
        "input_txt_file = '/content/drive/MyDrive/projects/dataset/oc-voter-list/master/cntywd_02102023_.txt'\n",
        "output_txt_file = '/content/drive/MyDrive/projects/dataset/oc-voter-list/campaigns/nbc#003/NBC0003-11-10-2023-d-test.txt'\n",
        "\n",
        "# Define data types for the columns\n",
        "dtypes = {\n",
        "    'szEmailAddress': str,\n",
        "    'szNameFirst': str,\n",
        "    'szNameLast': str,\n",
        "}\n",
        "\n",
        "# Read the data from the .txt file with specified data types\n",
        "df = pd.read_csv(input_txt_file, sep='\\t', encoding='ISO-8859-1', dtype=dtypes)\n",
        "\n",
        "\n",
        "df = df[['szEmailAddress', 'szNameFirst', 'szNameLast']]\n",
        "\n",
        "print(df.shape)\n",
        "df.dropna(inplace=True)\n",
        "print(df.shape)\n",
        "print(df.iloc[5759,:])\n",
        "# Export the entire DataFrame to a new text file\n",
        "df.to_csv(output_txt_file, sep='\\t', index=False)\n",
        "\n",
        "print(f'Export completed. Text file saved as {output_txt_file}')\n"
      ]
    }
  ],
  "metadata": {
    "colab": {
      "provenance": [],
      "mount_file_id": "1hCOG3iIDeViIZXoKYP7XRdYC5VzLX8Rz",
      "authorship_tag": "ABX9TyNduv/2WVbjXY3QHL97oWRx",
      "include_colab_link": true
    },
    "kernelspec": {
      "display_name": "Python 3",
      "name": "python3"
    },
    "language_info": {
      "name": "python"
    }
  },
  "nbformat": 4,
  "nbformat_minor": 0
}