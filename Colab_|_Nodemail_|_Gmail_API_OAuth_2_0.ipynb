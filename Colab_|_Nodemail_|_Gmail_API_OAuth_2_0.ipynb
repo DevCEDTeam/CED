{
  "cells": [
    {
      "cell_type": "markdown",
      "metadata": {
        "id": "view-in-github",
        "colab_type": "text"
      },
      "source": [
        "<a href=\"https://colab.research.google.com/github/DevCEDTeam/CED/blob/main/Colab_%7C_Nodemail_%7C_Gmail_API_OAuth_2_0.ipynb\" target=\"_parent\"><img src=\"https://colab.research.google.com/assets/colab-badge.svg\" alt=\"Open In Colab\"/></a>"
      ]
    },
    {
      "cell_type": "markdown",
      "metadata": {
        "id": "UV_QKbdU8IoV"
      },
      "source": [
        "#**Step # 1: Mounted at /content/drive**"
      ]
    },
    {
      "cell_type": "code",
      "execution_count": null,
      "metadata": {
        "id": "ihrWXcc18Gi8"
      },
      "outputs": [],
      "source": [
        "from google.colab import drive\n",
        "drive.mount('/content/drive')"
      ]
    },
    {
      "cell_type": "markdown",
      "metadata": {
        "id": "fuGPn6cqHpu8"
      },
      "source": [
        "Google Colab Cell 1: Install Required Libraries"
      ]
    },
    {
      "cell_type": "code",
      "execution_count": null,
      "metadata": {
        "colab": {
          "base_uri": "https://localhost:8080/"
        },
        "id": "Xl6_lbP5HYVe",
        "outputId": "117dd3b3-f0d3-44e9-dbd8-93bcf7165d73"
      },
      "outputs": [
        {
          "name": "stdout",
          "output_type": "stream",
          "text": [
            "Requirement already satisfied: google-auth in /usr/local/lib/python3.10/dist-packages (2.17.3)\n",
            "Requirement already satisfied: google-auth-oauthlib in /usr/local/lib/python3.10/dist-packages (1.0.0)\n",
            "Requirement already satisfied: google-auth-httplib2 in /usr/local/lib/python3.10/dist-packages (0.1.1)\n",
            "Requirement already satisfied: cachetools<6.0,>=2.0.0 in /usr/local/lib/python3.10/dist-packages (from google-auth) (5.3.2)\n",
            "Requirement already satisfied: pyasn1-modules>=0.2.1 in /usr/local/lib/python3.10/dist-packages (from google-auth) (0.3.0)\n",
            "Requirement already satisfied: six>=1.9.0 in /usr/local/lib/python3.10/dist-packages (from google-auth) (1.16.0)\n",
            "Requirement already satisfied: rsa<5,>=3.1.4 in /usr/local/lib/python3.10/dist-packages (from google-auth) (4.9)\n",
            "Requirement already satisfied: requests-oauthlib>=0.7.0 in /usr/local/lib/python3.10/dist-packages (from google-auth-oauthlib) (1.3.1)\n",
            "Requirement already satisfied: httplib2>=0.19.0 in /usr/local/lib/python3.10/dist-packages (from google-auth-httplib2) (0.22.0)\n",
            "Requirement already satisfied: pyparsing!=3.0.0,!=3.0.1,!=3.0.2,!=3.0.3,<4,>=2.4.2 in /usr/local/lib/python3.10/dist-packages (from httplib2>=0.19.0->google-auth-httplib2) (3.1.1)\n",
            "Requirement already satisfied: pyasn1<0.6.0,>=0.4.6 in /usr/local/lib/python3.10/dist-packages (from pyasn1-modules>=0.2.1->google-auth) (0.5.0)\n",
            "Requirement already satisfied: oauthlib>=3.0.0 in /usr/local/lib/python3.10/dist-packages (from requests-oauthlib>=0.7.0->google-auth-oauthlib) (3.2.2)\n",
            "Requirement already satisfied: requests>=2.0.0 in /usr/local/lib/python3.10/dist-packages (from requests-oauthlib>=0.7.0->google-auth-oauthlib) (2.31.0)\n",
            "Requirement already satisfied: charset-normalizer<4,>=2 in /usr/local/lib/python3.10/dist-packages (from requests>=2.0.0->requests-oauthlib>=0.7.0->google-auth-oauthlib) (3.3.1)\n",
            "Requirement already satisfied: idna<4,>=2.5 in /usr/local/lib/python3.10/dist-packages (from requests>=2.0.0->requests-oauthlib>=0.7.0->google-auth-oauthlib) (3.4)\n",
            "Requirement already satisfied: urllib3<3,>=1.21.1 in /usr/local/lib/python3.10/dist-packages (from requests>=2.0.0->requests-oauthlib>=0.7.0->google-auth-oauthlib) (2.0.7)\n",
            "Requirement already satisfied: certifi>=2017.4.17 in /usr/local/lib/python3.10/dist-packages (from requests>=2.0.0->requests-oauthlib>=0.7.0->google-auth-oauthlib) (2023.7.22)\n",
            "Requirement already satisfied: requests in /usr/local/lib/python3.10/dist-packages (2.31.0)\n",
            "Requirement already satisfied: requests-oauthlib in /usr/local/lib/python3.10/dist-packages (1.3.1)\n",
            "Requirement already satisfied: pyjwt in /usr/lib/python3/dist-packages (2.3.0)\n",
            "Requirement already satisfied: charset-normalizer<4,>=2 in /usr/local/lib/python3.10/dist-packages (from requests) (3.3.1)\n",
            "Requirement already satisfied: idna<4,>=2.5 in /usr/local/lib/python3.10/dist-packages (from requests) (3.4)\n",
            "Requirement already satisfied: urllib3<3,>=1.21.1 in /usr/local/lib/python3.10/dist-packages (from requests) (2.0.7)\n",
            "Requirement already satisfied: certifi>=2017.4.17 in /usr/local/lib/python3.10/dist-packages (from requests) (2023.7.22)\n",
            "Requirement already satisfied: oauthlib>=3.0.0 in /usr/local/lib/python3.10/dist-packages (from requests-oauthlib) (3.2.2)\n"
          ]
        }
      ],
      "source": [
        "!pip install google-auth google-auth-oauthlib google-auth-httplib2\n",
        "!pip install requests requests-oauthlib pyjwt"
      ]
    },
    {
      "cell_type": "markdown",
      "metadata": {
        "id": "bTNgg4SNH2-M"
      },
      "source": [
        "vGoogle Colab Cell 2: Authenticate with Gmail using OAuth 2.0"
      ]
    },
    {
      "cell_type": "code",
      "execution_count": null,
      "metadata": {
        "id": "hVkcQfksH3f0"
      },
      "outputs": [],
      "source": [
        "from __future__ import print_function\n",
        "\n",
        "import base64\n",
        "from email.message import EmailMessage\n",
        "\n",
        "import google.auth\n",
        "from googleapiclient.discovery import build\n",
        "from googleapiclient.errors import HttpError\n",
        "\n",
        "import os  # Import the os module\n",
        "\n",
        "def gmail_send_message():\n",
        "    \"\"\"Create and send an email message\n",
        "    Print the returned message id\n",
        "    Returns: Message object, including message id\n",
        "\n",
        "    Load pre-authorized user credentials from the environment.\n",
        "    TODO(developer) - See https://developers.google.com/identity\n",
        "    for guides on implementing OAuth2 for the application.\n",
        "    \"\"\"\n",
        "    # Authenticate the user and obtain user credentials\n",
        "    from google_auth_oauthlib.flow import InstalledAppFlow\n",
        "    from google.auth.transport.requests import Request\n",
        "\n",
        "    SCOPES = ['https://www.googleapis.com/auth/gmail.send']\n",
        "    creds = None\n",
        "\n",
        "    # The file token.json stores the user's access and refresh tokens,\n",
        "    # and is created automatically when the authorization flow completes for the first time.\n",
        "    if os.path.exists('token.json'):\n",
        "        creds = Credentials.from_authorized_user_file('token.json', SCOPES)\n",
        "\n",
        "    # If there are no (valid) credentials available, let the user log in.\n",
        "    if not creds or not creds.valid:\n",
        "        if creds and creds.expired and creds.refresh_token:\n",
        "            creds.refresh(Request())\n",
        "        else:\n",
        "            # Modify this line to provide the correct path to your \"credentials.json\" file\n",
        "            credentials_file = '/content/drive/MyDrive/projects/programs/service_account.json'\n",
        "            flow = InstalledAppFlow.from_client_secrets_file(\n",
        "                credentials_file, SCOPES)  # Use the correct path here\n",
        "            creds = flow.run_local_server(port=0)\n",
        "        # Save the credentials for the next run\n",
        "        with open('token.json', 'w') as token:\n",
        "            token.write(creds.to_json())\n",
        "\n",
        "    try:\n",
        "        service = build('gmail', 'v1', credentials=creds)\n",
        "        message = EmailMessage()\n",
        "\n",
        "        message.set_content('This is an automated draft mail')\n",
        "\n",
        "        message['To'] = 'team@cfored.com'\n",
        "        message['From'] = 'team@cfored.com'\n",
        "        message['Subject'] = 'Automated draft'\n",
        "\n",
        "        # Encoded message\n",
        "        encoded_message = base64.urlsafe_b64encode(message.as_bytes()).decode()\n",
        "\n",
        "        create_message = {\n",
        "            'raw': encoded_message\n",
        "        }\n",
        "        # Send the message\n",
        "        send_message = service.users().messages().send(userId=\"me\", body=create_message).execute()\n",
        "        print(F'Message Id: {send_message[\"id\"]}')\n",
        "    except HttpError as error:\n",
        "        print(F'An error occurred: {error}')\n",
        "        send_message = None\n",
        "    return send_message\n",
        "\n",
        "if __name__ == '__main__':\n",
        "    gmail_send_message()\n"
      ]
    },
    {
      "cell_type": "code",
      "source": [
        "from __future__ import print_function\n",
        "\n",
        "import base64\n",
        "from email.message import EmailMessage\n",
        "\n",
        "import google.auth\n",
        "from googleapiclient.discovery import build\n",
        "from googleapiclient.errors import HttpError\n",
        "\n",
        "import os  # Import the os module\n",
        "from google.oauth2.credentials import Credentials\n",
        "\n",
        "def gmail_send_message():\n",
        "    \"\"\"Create and send an email message\n",
        "    Print the returned message id\n",
        "    Returns: Message object, including message id\n",
        "\n",
        "    Load pre-authorized user credentials from the environment.\n",
        "    TODO(developer) - See https://developers.google.com/identity\n",
        "    for guides on implementing OAuth2 for the application.\n",
        "    \"\"\"\n",
        "    # Use a fixed and registered redirect URI\n",
        "    redirect_uri = 'http://localhost'\n",
        "\n",
        "    # Authenticate the user and obtain user credentials\n",
        "    from google_auth_oauthlib.flow import InstalledAppFlow\n",
        "\n",
        "    SCOPES = ['https://www.googleapis.com/auth/gmail.send']\n",
        "    creds = None\n",
        "\n",
        "    # The file token.json stores the user's access and refresh tokens,\n",
        "    # and is created automatically when the authorization flow completes for the first time.\n",
        "    if os.path.exists('token.json'):\n",
        "        creds = Credentials.from_authorized_user_file('token.json', SCOPES)\n",
        "\n",
        "    # If there are no (valid) credentials available, let the user log in.\n",
        "    if not creds or not creds.valid:\n",
        "        if creds and creds.expired and creds.refresh_token:\n",
        "            creds.refresh(Request())\n",
        "        else:\n",
        "            # Modify this line to provide the correct path to your \"credentials.json\" file\n",
        "            credentials_file = '/content/drive/MyDrive/projects/programs/service_account.json'\n",
        "            flow = InstalledAppFlow.from_client_secrets_file(\n",
        "                credentials_file, SCOPES, redirect_uri=redirect_uri)  # Use the correct path here\n",
        "            creds = flow.run_local_server(port=0)\n",
        "        # Save the credentials for the next run\n",
        "        with open('token.json', 'w') as token:\n",
        "            token.write(creds.to_json())\n",
        "\n",
        "    try:\n",
        "        service = build('gmail', 'v1', credentials=creds)\n",
        "        message = EmailMessage()\n",
        "\n",
        "        message.set_content('This is an automated draft mail')\n",
        "\n",
        "        message['To'] = 'team@cfored.com'\n",
        "        message['From'] = 'team@cfored.com'\n",
        "        message['Subject'] = 'Automated draft'\n",
        "\n",
        "        # Encoded message\n",
        "        encoded_message = base64.urlsafe_b64encode(message.as_bytes()).decode()\n",
        "\n",
        "        create_message = {\n",
        "            'raw': encoded_message\n",
        "        }\n",
        "        # Send the message\n",
        "        send_message = service.users().messages().send(userId=\"me\", body=create_message).execute()\n",
        "        print(F'Message Id: {send_message[\"id\"]}')\n",
        "    except HttpError as error:\n",
        "        print(F'An error occurred: {error}')\n",
        "        send_message = None\n",
        "    return send_message\n",
        "\n",
        "if __name__ == '__main__':\n",
        "    gmail_send_message()\n"
      ],
      "metadata": {
        "id": "2OuqUJyCzlqe"
      },
      "execution_count": null,
      "outputs": []
    }
  ],
  "metadata": {
    "colab": {
      "provenance": [],
      "mount_file_id": "1wUY9JwLtik8HNC4b-rlCIY7tjTXcnGLH",
      "authorship_tag": "ABX9TyP274emMJe/uplUFUxRnqCT",
      "include_colab_link": true
    },
    "kernelspec": {
      "display_name": "Python 3",
      "name": "python3"
    },
    "language_info": {
      "name": "python"
    }
  },
  "nbformat": 4,
  "nbformat_minor": 0
}